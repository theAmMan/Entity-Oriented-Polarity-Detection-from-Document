{
  "cells": [
    {
      "cell_type": "markdown",
      "source": [
        "#Natural Language Processing Course Project (CS60075)\n",
        "##Entity Oriented Polarity Detection from Document\n",
        "\n",
        "#####IIT Kharagpur, Autumn 2022-23\n",
        "\n",
        "####Amartya Mandal (19CS10009), Sayantan Saha (19CS30041), Srijanak De (19CS30047), Aditya Tulshiram Anantwar (19CS10006), Pramit Kumar Chandra (19CS1072)\n"
      ],
      "metadata": {
        "id": "oB7-c0KPmD9Q"
      }
    },
    {
      "cell_type": "markdown",
      "source": [
        "##Install necessary packages"
      ],
      "metadata": {
        "id": "rHEdqBdIeZc5"
      }
    },
    {
      "cell_type": "code",
      "execution_count": null,
      "metadata": {
        "id": "6UnYkDLG6RGf"
      },
      "outputs": [],
      "source": [
        "!pip install transformers"
      ]
    },
    {
      "cell_type": "code",
      "execution_count": null,
      "metadata": {
        "id": "TlU3SbDYgAxP"
      },
      "outputs": [],
      "source": [
        "!pip install torchtext==0.11.0"
      ]
    },
    {
      "cell_type": "code",
      "source": [
        "!pip install torchmetrics"
      ],
      "metadata": {
        "id": "aa2MoIAYJzb9"
      },
      "execution_count": null,
      "outputs": []
    },
    {
      "cell_type": "markdown",
      "source": [
        "##Imports"
      ],
      "metadata": {
        "id": "6QmQhAsreeVO"
      }
    },
    {
      "cell_type": "code",
      "execution_count": null,
      "metadata": {
        "id": "mRa33De55tpT"
      },
      "outputs": [],
      "source": [
        "import transformers"
      ]
    },
    {
      "cell_type": "code",
      "execution_count": null,
      "metadata": {
        "id": "HU7bGZ8883Ha"
      },
      "outputs": [],
      "source": [
        "import pandas as pd\n",
        "import re\n",
        "import numpy as np"
      ]
    },
    {
      "cell_type": "code",
      "source": [
        "import torch.nn as nn\n",
        "from transformers import AdamW, get_constant_schedule_with_warmup\n",
        "import torch.optim as optim"
      ],
      "metadata": {
        "id": "vENVNk9yYFEb"
      },
      "execution_count": null,
      "outputs": []
    },
    {
      "cell_type": "code",
      "source": [
        "from torchmetrics import F1Score, Accuracy"
      ],
      "metadata": {
        "id": "wDNkXx6jJ5K0",
        "colab": {
          "base_uri": "https://localhost:8080/"
        },
        "outputId": "5d67c83e-e884-4ab6-c8c2-fa869ffc1dfd"
      },
      "execution_count": null,
      "outputs": [
        {
          "output_type": "stream",
          "name": "stderr",
          "text": [
            "/usr/local/lib/python3.7/dist-packages/torchvision/io/image.py:13: UserWarning: Failed to load image Python extension: libtorch_cuda_cu.so: cannot open shared object file: No such file or directory\n",
            "  warn(f\"Failed to load image Python extension: {e}\")\n"
          ]
        }
      ]
    },
    {
      "cell_type": "markdown",
      "source": [
        "##Using apex GPU from NVIDIA"
      ],
      "metadata": {
        "id": "a2pSCsfvehGV"
      }
    },
    {
      "cell_type": "code",
      "execution_count": null,
      "metadata": {
        "id": "LD4fBX8FViaT"
      },
      "outputs": [],
      "source": [
        "!git clone https://github.com/NVIDIA/apex\n",
        "%cd apex\n",
        "!pip install -v --no-cache-dir ./"
      ]
    },
    {
      "cell_type": "markdown",
      "source": [
        "##Mount Drive to save files"
      ],
      "metadata": {
        "id": "r7ZCEnAdenQb"
      }
    },
    {
      "cell_type": "code",
      "execution_count": null,
      "metadata": {
        "colab": {
          "base_uri": "https://localhost:8080/"
        },
        "id": "KdlFbBhPIXat",
        "outputId": "0cdd587e-b075-4bcc-acc3-5f76a838e2a0"
      },
      "outputs": [
        {
          "output_type": "stream",
          "name": "stdout",
          "text": [
            "Mounted at /content/drive\n"
          ]
        }
      ],
      "source": [
        "from google.colab import drive\n",
        "drive.mount('/content/drive')"
      ]
    },
    {
      "cell_type": "markdown",
      "source": [
        "##Parse the data file"
      ],
      "metadata": {
        "id": "kjKhwqtJes25"
      }
    },
    {
      "cell_type": "code",
      "source": [
        "contents=\"\"\n",
        "with open(r'/content/drive/MyDrive/polarity_data.js') as f:\n",
        "    contents = f.read()"
      ],
      "metadata": {
        "id": "Vq3M1QqKYUXl"
      },
      "execution_count": null,
      "outputs": []
    },
    {
      "cell_type": "code",
      "source": [
        "content=[]\n",
        "entities=[]"
      ],
      "metadata": {
        "id": "BWuGiyOmYYzc"
      },
      "execution_count": null,
      "outputs": []
    },
    {
      "cell_type": "code",
      "source": [
        "id_content = [m.start() for m in re.finditer(\"'content'\", contents)]\n",
        "id_docnoId = [m.start() for m in re.finditer(\"'docnoId'\", contents)]\n",
        "id_entities = [m.start() for m in re.finditer(\"'entities'\", contents)]\n",
        "id_headline = [m.start() for m in re.finditer(\"'headline'\", contents)]"
      ],
      "metadata": {
        "id": "9GS5pLCOZ3iL"
      },
      "execution_count": null,
      "outputs": []
    },
    {
      "cell_type": "markdown",
      "source": [
        "###Extract the entity and content from json"
      ],
      "metadata": {
        "id": "sI49vG42e66N"
      }
    },
    {
      "cell_type": "code",
      "source": [
        "for i in range(0,len(id_entities)):\n",
        "    m = id_content[i]+len(\"'content'\")+4\n",
        "    n = id_docnoId[i]-5\n",
        "    content.append(contents[m:n])"
      ],
      "metadata": {
        "id": "BuVafE5GYbCY"
      },
      "execution_count": null,
      "outputs": []
    },
    {
      "cell_type": "code",
      "source": [
        "for i in range(0,len(id_entities)):\n",
        "    m = id_entities[i]+len(\"'entities'\")+2\n",
        "    n = id_headline[i]-4\n",
        "    entities.append(contents[m:n])"
      ],
      "metadata": {
        "id": "u_WVT2DoYfYc"
      },
      "execution_count": null,
      "outputs": []
    },
    {
      "cell_type": "code",
      "source": [
        "data = {'content':content,'entities':entities}\n",
        "df = pd.DataFrame(data)"
      ],
      "metadata": {
        "id": "MJd2W-icYjcd"
      },
      "execution_count": null,
      "outputs": []
    },
    {
      "cell_type": "code",
      "source": [
        "for i in range(0,len(df)):\n",
        "    df['entities'][i] = df['entities'][i].replace('\\n','')\n",
        "    df['entities'][i] = df['entities'][i].replace(' ','')\n",
        "    df['entities'][i] = df['entities'][i].replace(\"'\",'\"')"
      ],
      "metadata": {
        "id": "7cJylkntYmWo"
      },
      "execution_count": null,
      "outputs": []
    },
    {
      "cell_type": "markdown",
      "source": [
        "###Extracting Polarity"
      ],
      "metadata": {
        "id": "GZbx5VtFfBUn"
      }
    },
    {
      "cell_type": "code",
      "source": [
        "entities = []\n",
        "names = []\n",
        "offsets = []\n",
        "polarity = []\n",
        "for i in range(0,len(df)):\n",
        "  id_entityId = [m.start() for m in re.finditer('\"entityId\"', df['entities'][i])]\n",
        "  id_name = [m.start() for m in re.finditer('\"name\"', df['entities'][i])]\n",
        "  id_offsets = [m.start() for m in re.finditer('\"offsets\"', df['entities'][i])]\n",
        "  id_polarity = [m.start() for m in re.finditer('\"polarity\"', df['entities'][i])]\n",
        "  # print(id_name)\n",
        "  lst1 = []\n",
        "  lst2 = []\n",
        "  lst3 = []\n",
        "  lst4 = []\n",
        "  for j in range(0,len(id_entityId)):\n",
        "    m = id_entityId[j]+len(\"'entityId'\")+1\n",
        "    n = id_name[j]-1\n",
        "    lst1.append(df['entities'][i][m:n])\n",
        "    m = id_name[j]+len(\"'name'\")+2\n",
        "    n = id_offsets[j]-1\n",
        "    lst2.append(df['entities'][i][m:n])\n",
        "    m = id_offsets[j]+len(\"'offsets'\")+1\n",
        "    n = id_polarity[j]-1\n",
        "    lst3.append(df['entities'][i][m:n])\n",
        "    m = id_polarity[j]+len(\"'polarity'\")+1\n",
        "    n = id_polarity[j]+len(\"'polarity'\")+4\n",
        "    lst4.append(df['entities'][i][m:n])\n",
        "  entities.append(lst1)\n",
        "  names.append(lst2)\n",
        "  offsets.append(lst3)\n",
        "  polarity.append(lst4)"
      ],
      "metadata": {
        "id": "570G1FOUYrDm"
      },
      "execution_count": null,
      "outputs": []
    },
    {
      "cell_type": "code",
      "source": [
        "df = df.assign(entity = names)\n",
        "df = df.assign(polarity = polarity)"
      ],
      "metadata": {
        "id": "rewzP5jvYveW"
      },
      "execution_count": null,
      "outputs": []
    },
    {
      "cell_type": "code",
      "source": [
        "df"
      ],
      "metadata": {
        "colab": {
          "base_uri": "https://localhost:8080/",
          "height": 424
        },
        "id": "U-3n6QZVYwS7",
        "outputId": "18975aa1-b3fc-449d-b32d-d1bda96081f0"
      },
      "execution_count": null,
      "outputs": [
        {
          "output_type": "execute_result",
          "data": {
            "text/plain": [
              "                                                 content  \\\n",
              "0      20170201\\n0A21D5765ED3B8F51065D3CF7339371E\\nTe...   \n",
              "1      20170201\\n4BBD29849EF2018A3D34932EC4AD92AB\\nHe...   \n",
              "2      20170201\\n80EA59EAB021503F49D4277EA2083662\\nTh...   \n",
              "3      20161106\\nFFAB0927A3C18A19E944EE9B9CBBE5E4\\nGe...   \n",
              "4      20161106\\n31009487CAE7A3C7AC245F5A758B3B8F\\nGe...   \n",
              "...                                                  ...   \n",
              "16835  20161122\\nA0534B1C9CAEFE11B7CB55BA96AE81A8\\nVW...   \n",
              "16836  20170111\\n3A15184582AE4B286ED2F9E992D7D297\\nVe...   \n",
              "16837  20161202\\n5CB8129BF9385F0412815C430680A066\\nFa...   \n",
              "16838  20170111\\n9D4787AA15641E479BFCFA554E94E8B9\\nWh...   \n",
              "16839  20161202\\nD68034E196D49B1B951DA71FE89CEE38\\nFa...   \n",
              "\n",
              "                                                entities  \\\n",
              "0      [{\"entityId\":14123,\"name\":u\"Facebook\",\"offsets...   \n",
              "1      [{\"entityId\":10912,\"name\":u\"Aetna\",\"offsets\":[...   \n",
              "2      [{\"entityId\":4054,\"name\":u\"WarwickHotels&Resor...   \n",
              "3      [{\"entityId\":1897,\"name\":u\"Volkswagen\",\"offset...   \n",
              "4      [{\"entityId\":5350,\"name\":u\"Volkswagen\",\"offset...   \n",
              "...                                                  ...   \n",
              "16835  [{\"entityId\":8089,\"name\":u\"Volkswagen\",\"offset...   \n",
              "16836  [{\"entityId\":11922,\"name\":u\"Yahoo\",\"offsets\":[...   \n",
              "16837  [{\"entityId\":9172,\"name\":u\"Facebook\",\"offsets\"...   \n",
              "16838  [{\"entityId\":6858,\"name\":u\"Yahoo\",\"offsets\":[{...   \n",
              "16839  [{\"entityId\":6290,\"name\":u\"Facebook\",\"offsets\"...   \n",
              "\n",
              "                          entity polarity  \n",
              "0                   [\"Facebook\"]    [0.5]  \n",
              "1                      [\"Aetna\"]    [1.0]  \n",
              "2      [\"WarwickHotels&Resorts\"]    [1.0]  \n",
              "3                 [\"Volkswagen\"]    [0.0]  \n",
              "4                 [\"Volkswagen\"]    [0.0]  \n",
              "...                          ...      ...  \n",
              "16835             [\"Volkswagen\"]    [\"co]  \n",
              "16836                  [\"Yahoo\"]    [\"co]  \n",
              "16837               [\"Facebook\"]    [\"co]  \n",
              "16838                  [\"Yahoo\"]    [\"co]  \n",
              "16839               [\"Facebook\"]    [\"co]  \n",
              "\n",
              "[16840 rows x 4 columns]"
            ],
            "text/html": [
              "\n",
              "  <div id=\"df-471668f5-95fd-4d24-921b-003c8f13c26e\">\n",
              "    <div class=\"colab-df-container\">\n",
              "      <div>\n",
              "<style scoped>\n",
              "    .dataframe tbody tr th:only-of-type {\n",
              "        vertical-align: middle;\n",
              "    }\n",
              "\n",
              "    .dataframe tbody tr th {\n",
              "        vertical-align: top;\n",
              "    }\n",
              "\n",
              "    .dataframe thead th {\n",
              "        text-align: right;\n",
              "    }\n",
              "</style>\n",
              "<table border=\"1\" class=\"dataframe\">\n",
              "  <thead>\n",
              "    <tr style=\"text-align: right;\">\n",
              "      <th></th>\n",
              "      <th>content</th>\n",
              "      <th>entities</th>\n",
              "      <th>entity</th>\n",
              "      <th>polarity</th>\n",
              "    </tr>\n",
              "  </thead>\n",
              "  <tbody>\n",
              "    <tr>\n",
              "      <th>0</th>\n",
              "      <td>20170201\\n0A21D5765ED3B8F51065D3CF7339371E\\nTe...</td>\n",
              "      <td>[{\"entityId\":14123,\"name\":u\"Facebook\",\"offsets...</td>\n",
              "      <td>[\"Facebook\"]</td>\n",
              "      <td>[0.5]</td>\n",
              "    </tr>\n",
              "    <tr>\n",
              "      <th>1</th>\n",
              "      <td>20170201\\n4BBD29849EF2018A3D34932EC4AD92AB\\nHe...</td>\n",
              "      <td>[{\"entityId\":10912,\"name\":u\"Aetna\",\"offsets\":[...</td>\n",
              "      <td>[\"Aetna\"]</td>\n",
              "      <td>[1.0]</td>\n",
              "    </tr>\n",
              "    <tr>\n",
              "      <th>2</th>\n",
              "      <td>20170201\\n80EA59EAB021503F49D4277EA2083662\\nTh...</td>\n",
              "      <td>[{\"entityId\":4054,\"name\":u\"WarwickHotels&amp;Resor...</td>\n",
              "      <td>[\"WarwickHotels&amp;Resorts\"]</td>\n",
              "      <td>[1.0]</td>\n",
              "    </tr>\n",
              "    <tr>\n",
              "      <th>3</th>\n",
              "      <td>20161106\\nFFAB0927A3C18A19E944EE9B9CBBE5E4\\nGe...</td>\n",
              "      <td>[{\"entityId\":1897,\"name\":u\"Volkswagen\",\"offset...</td>\n",
              "      <td>[\"Volkswagen\"]</td>\n",
              "      <td>[0.0]</td>\n",
              "    </tr>\n",
              "    <tr>\n",
              "      <th>4</th>\n",
              "      <td>20161106\\n31009487CAE7A3C7AC245F5A758B3B8F\\nGe...</td>\n",
              "      <td>[{\"entityId\":5350,\"name\":u\"Volkswagen\",\"offset...</td>\n",
              "      <td>[\"Volkswagen\"]</td>\n",
              "      <td>[0.0]</td>\n",
              "    </tr>\n",
              "    <tr>\n",
              "      <th>...</th>\n",
              "      <td>...</td>\n",
              "      <td>...</td>\n",
              "      <td>...</td>\n",
              "      <td>...</td>\n",
              "    </tr>\n",
              "    <tr>\n",
              "      <th>16835</th>\n",
              "      <td>20161122\\nA0534B1C9CAEFE11B7CB55BA96AE81A8\\nVW...</td>\n",
              "      <td>[{\"entityId\":8089,\"name\":u\"Volkswagen\",\"offset...</td>\n",
              "      <td>[\"Volkswagen\"]</td>\n",
              "      <td>[\"co]</td>\n",
              "    </tr>\n",
              "    <tr>\n",
              "      <th>16836</th>\n",
              "      <td>20170111\\n3A15184582AE4B286ED2F9E992D7D297\\nVe...</td>\n",
              "      <td>[{\"entityId\":11922,\"name\":u\"Yahoo\",\"offsets\":[...</td>\n",
              "      <td>[\"Yahoo\"]</td>\n",
              "      <td>[\"co]</td>\n",
              "    </tr>\n",
              "    <tr>\n",
              "      <th>16837</th>\n",
              "      <td>20161202\\n5CB8129BF9385F0412815C430680A066\\nFa...</td>\n",
              "      <td>[{\"entityId\":9172,\"name\":u\"Facebook\",\"offsets\"...</td>\n",
              "      <td>[\"Facebook\"]</td>\n",
              "      <td>[\"co]</td>\n",
              "    </tr>\n",
              "    <tr>\n",
              "      <th>16838</th>\n",
              "      <td>20170111\\n9D4787AA15641E479BFCFA554E94E8B9\\nWh...</td>\n",
              "      <td>[{\"entityId\":6858,\"name\":u\"Yahoo\",\"offsets\":[{...</td>\n",
              "      <td>[\"Yahoo\"]</td>\n",
              "      <td>[\"co]</td>\n",
              "    </tr>\n",
              "    <tr>\n",
              "      <th>16839</th>\n",
              "      <td>20161202\\nD68034E196D49B1B951DA71FE89CEE38\\nFa...</td>\n",
              "      <td>[{\"entityId\":6290,\"name\":u\"Facebook\",\"offsets\"...</td>\n",
              "      <td>[\"Facebook\"]</td>\n",
              "      <td>[\"co]</td>\n",
              "    </tr>\n",
              "  </tbody>\n",
              "</table>\n",
              "<p>16840 rows × 4 columns</p>\n",
              "</div>\n",
              "      <button class=\"colab-df-convert\" onclick=\"convertToInteractive('df-471668f5-95fd-4d24-921b-003c8f13c26e')\"\n",
              "              title=\"Convert this dataframe to an interactive table.\"\n",
              "              style=\"display:none;\">\n",
              "        \n",
              "  <svg xmlns=\"http://www.w3.org/2000/svg\" height=\"24px\"viewBox=\"0 0 24 24\"\n",
              "       width=\"24px\">\n",
              "    <path d=\"M0 0h24v24H0V0z\" fill=\"none\"/>\n",
              "    <path d=\"M18.56 5.44l.94 2.06.94-2.06 2.06-.94-2.06-.94-.94-2.06-.94 2.06-2.06.94zm-11 1L8.5 8.5l.94-2.06 2.06-.94-2.06-.94L8.5 2.5l-.94 2.06-2.06.94zm10 10l.94 2.06.94-2.06 2.06-.94-2.06-.94-.94-2.06-.94 2.06-2.06.94z\"/><path d=\"M17.41 7.96l-1.37-1.37c-.4-.4-.92-.59-1.43-.59-.52 0-1.04.2-1.43.59L10.3 9.45l-7.72 7.72c-.78.78-.78 2.05 0 2.83L4 21.41c.39.39.9.59 1.41.59.51 0 1.02-.2 1.41-.59l7.78-7.78 2.81-2.81c.8-.78.8-2.07 0-2.86zM5.41 20L4 18.59l7.72-7.72 1.47 1.35L5.41 20z\"/>\n",
              "  </svg>\n",
              "      </button>\n",
              "      \n",
              "  <style>\n",
              "    .colab-df-container {\n",
              "      display:flex;\n",
              "      flex-wrap:wrap;\n",
              "      gap: 12px;\n",
              "    }\n",
              "\n",
              "    .colab-df-convert {\n",
              "      background-color: #E8F0FE;\n",
              "      border: none;\n",
              "      border-radius: 50%;\n",
              "      cursor: pointer;\n",
              "      display: none;\n",
              "      fill: #1967D2;\n",
              "      height: 32px;\n",
              "      padding: 0 0 0 0;\n",
              "      width: 32px;\n",
              "    }\n",
              "\n",
              "    .colab-df-convert:hover {\n",
              "      background-color: #E2EBFA;\n",
              "      box-shadow: 0px 1px 2px rgba(60, 64, 67, 0.3), 0px 1px 3px 1px rgba(60, 64, 67, 0.15);\n",
              "      fill: #174EA6;\n",
              "    }\n",
              "\n",
              "    [theme=dark] .colab-df-convert {\n",
              "      background-color: #3B4455;\n",
              "      fill: #D2E3FC;\n",
              "    }\n",
              "\n",
              "    [theme=dark] .colab-df-convert:hover {\n",
              "      background-color: #434B5C;\n",
              "      box-shadow: 0px 1px 3px 1px rgba(0, 0, 0, 0.15);\n",
              "      filter: drop-shadow(0px 1px 2px rgba(0, 0, 0, 0.3));\n",
              "      fill: #FFFFFF;\n",
              "    }\n",
              "  </style>\n",
              "\n",
              "      <script>\n",
              "        const buttonEl =\n",
              "          document.querySelector('#df-471668f5-95fd-4d24-921b-003c8f13c26e button.colab-df-convert');\n",
              "        buttonEl.style.display =\n",
              "          google.colab.kernel.accessAllowed ? 'block' : 'none';\n",
              "\n",
              "        async function convertToInteractive(key) {\n",
              "          const element = document.querySelector('#df-471668f5-95fd-4d24-921b-003c8f13c26e');\n",
              "          const dataTable =\n",
              "            await google.colab.kernel.invokeFunction('convertToInteractive',\n",
              "                                                     [key], {});\n",
              "          if (!dataTable) return;\n",
              "\n",
              "          const docLinkHtml = 'Like what you see? Visit the ' +\n",
              "            '<a target=\"_blank\" href=https://colab.research.google.com/notebooks/data_table.ipynb>data table notebook</a>'\n",
              "            + ' to learn more about interactive tables.';\n",
              "          element.innerHTML = '';\n",
              "          dataTable['output_type'] = 'display_data';\n",
              "          await google.colab.output.renderOutput(dataTable, element);\n",
              "          const docLink = document.createElement('div');\n",
              "          docLink.innerHTML = docLinkHtml;\n",
              "          element.appendChild(docLink);\n",
              "        }\n",
              "      </script>\n",
              "    </div>\n",
              "  </div>\n",
              "  "
            ]
          },
          "metadata": {},
          "execution_count": 19
        }
      ]
    },
    {
      "cell_type": "markdown",
      "source": [
        "###Handling data with multiple entities"
      ],
      "metadata": {
        "id": "9-O4q4ESfZ8-"
      }
    },
    {
      "cell_type": "markdown",
      "source": [
        "Each entity is treated as a separate Data Point"
      ],
      "metadata": {
        "id": "KU1DnJYEfexY"
      }
    },
    {
      "cell_type": "code",
      "source": [
        "data = pd.DataFrame(columns=['content','entity','polarity'])\n",
        "for i in range(len(df)):\n",
        "  for j in range(len(df['polarity'][i])):\n",
        "    d = {'content':df['content'][i], 'entity':df['entity'][i][j], 'polarity':df['polarity'][i][j]}\n",
        "    data = data.append(d, ignore_index=True)"
      ],
      "metadata": {
        "id": "9-rPc7OQYw1v"
      },
      "execution_count": null,
      "outputs": []
    },
    {
      "cell_type": "code",
      "source": [
        "for i in range(0,len(data)):\n",
        "    data['polarity'][i] = data['polarity'][i].replace('\"co','contradiction')"
      ],
      "metadata": {
        "id": "6TIfDHwMY4ZB"
      },
      "execution_count": null,
      "outputs": []
    },
    {
      "cell_type": "code",
      "source": [
        "data"
      ],
      "metadata": {
        "colab": {
          "base_uri": "https://localhost:8080/",
          "height": 424
        },
        "id": "VZxpPjKWY5JT",
        "outputId": "566e9450-62c2-48dd-8bde-5951f0236d68"
      },
      "execution_count": null,
      "outputs": [
        {
          "output_type": "execute_result",
          "data": {
            "text/plain": [
              "                                                 content  \\\n",
              "0      20170201\\n0A21D5765ED3B8F51065D3CF7339371E\\nTe...   \n",
              "1      20170201\\n4BBD29849EF2018A3D34932EC4AD92AB\\nHe...   \n",
              "2      20170201\\n80EA59EAB021503F49D4277EA2083662\\nTh...   \n",
              "3      20161106\\nFFAB0927A3C18A19E944EE9B9CBBE5E4\\nGe...   \n",
              "4      20161106\\n31009487CAE7A3C7AC245F5A758B3B8F\\nGe...   \n",
              "...                                                  ...   \n",
              "19859  20161122\\nA0534B1C9CAEFE11B7CB55BA96AE81A8\\nVW...   \n",
              "19860  20170111\\n3A15184582AE4B286ED2F9E992D7D297\\nVe...   \n",
              "19861  20161202\\n5CB8129BF9385F0412815C430680A066\\nFa...   \n",
              "19862  20170111\\n9D4787AA15641E479BFCFA554E94E8B9\\nWh...   \n",
              "19863  20161202\\nD68034E196D49B1B951DA71FE89CEE38\\nFa...   \n",
              "\n",
              "                        entity       polarity  \n",
              "0                   \"Facebook\"            0.5  \n",
              "1                      \"Aetna\"            1.0  \n",
              "2      \"WarwickHotels&Resorts\"            1.0  \n",
              "3                 \"Volkswagen\"            0.0  \n",
              "4                 \"Volkswagen\"            0.0  \n",
              "...                        ...            ...  \n",
              "19859             \"Volkswagen\"  contradiction  \n",
              "19860                  \"Yahoo\"  contradiction  \n",
              "19861               \"Facebook\"  contradiction  \n",
              "19862                  \"Yahoo\"  contradiction  \n",
              "19863               \"Facebook\"  contradiction  \n",
              "\n",
              "[19864 rows x 3 columns]"
            ],
            "text/html": [
              "\n",
              "  <div id=\"df-1fca6653-c5b3-4e31-b869-ec8506b3d3a5\">\n",
              "    <div class=\"colab-df-container\">\n",
              "      <div>\n",
              "<style scoped>\n",
              "    .dataframe tbody tr th:only-of-type {\n",
              "        vertical-align: middle;\n",
              "    }\n",
              "\n",
              "    .dataframe tbody tr th {\n",
              "        vertical-align: top;\n",
              "    }\n",
              "\n",
              "    .dataframe thead th {\n",
              "        text-align: right;\n",
              "    }\n",
              "</style>\n",
              "<table border=\"1\" class=\"dataframe\">\n",
              "  <thead>\n",
              "    <tr style=\"text-align: right;\">\n",
              "      <th></th>\n",
              "      <th>content</th>\n",
              "      <th>entity</th>\n",
              "      <th>polarity</th>\n",
              "    </tr>\n",
              "  </thead>\n",
              "  <tbody>\n",
              "    <tr>\n",
              "      <th>0</th>\n",
              "      <td>20170201\\n0A21D5765ED3B8F51065D3CF7339371E\\nTe...</td>\n",
              "      <td>\"Facebook\"</td>\n",
              "      <td>0.5</td>\n",
              "    </tr>\n",
              "    <tr>\n",
              "      <th>1</th>\n",
              "      <td>20170201\\n4BBD29849EF2018A3D34932EC4AD92AB\\nHe...</td>\n",
              "      <td>\"Aetna\"</td>\n",
              "      <td>1.0</td>\n",
              "    </tr>\n",
              "    <tr>\n",
              "      <th>2</th>\n",
              "      <td>20170201\\n80EA59EAB021503F49D4277EA2083662\\nTh...</td>\n",
              "      <td>\"WarwickHotels&amp;Resorts\"</td>\n",
              "      <td>1.0</td>\n",
              "    </tr>\n",
              "    <tr>\n",
              "      <th>3</th>\n",
              "      <td>20161106\\nFFAB0927A3C18A19E944EE9B9CBBE5E4\\nGe...</td>\n",
              "      <td>\"Volkswagen\"</td>\n",
              "      <td>0.0</td>\n",
              "    </tr>\n",
              "    <tr>\n",
              "      <th>4</th>\n",
              "      <td>20161106\\n31009487CAE7A3C7AC245F5A758B3B8F\\nGe...</td>\n",
              "      <td>\"Volkswagen\"</td>\n",
              "      <td>0.0</td>\n",
              "    </tr>\n",
              "    <tr>\n",
              "      <th>...</th>\n",
              "      <td>...</td>\n",
              "      <td>...</td>\n",
              "      <td>...</td>\n",
              "    </tr>\n",
              "    <tr>\n",
              "      <th>19859</th>\n",
              "      <td>20161122\\nA0534B1C9CAEFE11B7CB55BA96AE81A8\\nVW...</td>\n",
              "      <td>\"Volkswagen\"</td>\n",
              "      <td>contradiction</td>\n",
              "    </tr>\n",
              "    <tr>\n",
              "      <th>19860</th>\n",
              "      <td>20170111\\n3A15184582AE4B286ED2F9E992D7D297\\nVe...</td>\n",
              "      <td>\"Yahoo\"</td>\n",
              "      <td>contradiction</td>\n",
              "    </tr>\n",
              "    <tr>\n",
              "      <th>19861</th>\n",
              "      <td>20161202\\n5CB8129BF9385F0412815C430680A066\\nFa...</td>\n",
              "      <td>\"Facebook\"</td>\n",
              "      <td>contradiction</td>\n",
              "    </tr>\n",
              "    <tr>\n",
              "      <th>19862</th>\n",
              "      <td>20170111\\n9D4787AA15641E479BFCFA554E94E8B9\\nWh...</td>\n",
              "      <td>\"Yahoo\"</td>\n",
              "      <td>contradiction</td>\n",
              "    </tr>\n",
              "    <tr>\n",
              "      <th>19863</th>\n",
              "      <td>20161202\\nD68034E196D49B1B951DA71FE89CEE38\\nFa...</td>\n",
              "      <td>\"Facebook\"</td>\n",
              "      <td>contradiction</td>\n",
              "    </tr>\n",
              "  </tbody>\n",
              "</table>\n",
              "<p>19864 rows × 3 columns</p>\n",
              "</div>\n",
              "      <button class=\"colab-df-convert\" onclick=\"convertToInteractive('df-1fca6653-c5b3-4e31-b869-ec8506b3d3a5')\"\n",
              "              title=\"Convert this dataframe to an interactive table.\"\n",
              "              style=\"display:none;\">\n",
              "        \n",
              "  <svg xmlns=\"http://www.w3.org/2000/svg\" height=\"24px\"viewBox=\"0 0 24 24\"\n",
              "       width=\"24px\">\n",
              "    <path d=\"M0 0h24v24H0V0z\" fill=\"none\"/>\n",
              "    <path d=\"M18.56 5.44l.94 2.06.94-2.06 2.06-.94-2.06-.94-.94-2.06-.94 2.06-2.06.94zm-11 1L8.5 8.5l.94-2.06 2.06-.94-2.06-.94L8.5 2.5l-.94 2.06-2.06.94zm10 10l.94 2.06.94-2.06 2.06-.94-2.06-.94-.94-2.06-.94 2.06-2.06.94z\"/><path d=\"M17.41 7.96l-1.37-1.37c-.4-.4-.92-.59-1.43-.59-.52 0-1.04.2-1.43.59L10.3 9.45l-7.72 7.72c-.78.78-.78 2.05 0 2.83L4 21.41c.39.39.9.59 1.41.59.51 0 1.02-.2 1.41-.59l7.78-7.78 2.81-2.81c.8-.78.8-2.07 0-2.86zM5.41 20L4 18.59l7.72-7.72 1.47 1.35L5.41 20z\"/>\n",
              "  </svg>\n",
              "      </button>\n",
              "      \n",
              "  <style>\n",
              "    .colab-df-container {\n",
              "      display:flex;\n",
              "      flex-wrap:wrap;\n",
              "      gap: 12px;\n",
              "    }\n",
              "\n",
              "    .colab-df-convert {\n",
              "      background-color: #E8F0FE;\n",
              "      border: none;\n",
              "      border-radius: 50%;\n",
              "      cursor: pointer;\n",
              "      display: none;\n",
              "      fill: #1967D2;\n",
              "      height: 32px;\n",
              "      padding: 0 0 0 0;\n",
              "      width: 32px;\n",
              "    }\n",
              "\n",
              "    .colab-df-convert:hover {\n",
              "      background-color: #E2EBFA;\n",
              "      box-shadow: 0px 1px 2px rgba(60, 64, 67, 0.3), 0px 1px 3px 1px rgba(60, 64, 67, 0.15);\n",
              "      fill: #174EA6;\n",
              "    }\n",
              "\n",
              "    [theme=dark] .colab-df-convert {\n",
              "      background-color: #3B4455;\n",
              "      fill: #D2E3FC;\n",
              "    }\n",
              "\n",
              "    [theme=dark] .colab-df-convert:hover {\n",
              "      background-color: #434B5C;\n",
              "      box-shadow: 0px 1px 3px 1px rgba(0, 0, 0, 0.15);\n",
              "      filter: drop-shadow(0px 1px 2px rgba(0, 0, 0, 0.3));\n",
              "      fill: #FFFFFF;\n",
              "    }\n",
              "  </style>\n",
              "\n",
              "      <script>\n",
              "        const buttonEl =\n",
              "          document.querySelector('#df-1fca6653-c5b3-4e31-b869-ec8506b3d3a5 button.colab-df-convert');\n",
              "        buttonEl.style.display =\n",
              "          google.colab.kernel.accessAllowed ? 'block' : 'none';\n",
              "\n",
              "        async function convertToInteractive(key) {\n",
              "          const element = document.querySelector('#df-1fca6653-c5b3-4e31-b869-ec8506b3d3a5');\n",
              "          const dataTable =\n",
              "            await google.colab.kernel.invokeFunction('convertToInteractive',\n",
              "                                                     [key], {});\n",
              "          if (!dataTable) return;\n",
              "\n",
              "          const docLinkHtml = 'Like what you see? Visit the ' +\n",
              "            '<a target=\"_blank\" href=https://colab.research.google.com/notebooks/data_table.ipynb>data table notebook</a>'\n",
              "            + ' to learn more about interactive tables.';\n",
              "          element.innerHTML = '';\n",
              "          dataTable['output_type'] = 'display_data';\n",
              "          await google.colab.output.renderOutput(dataTable, element);\n",
              "          const docLink = document.createElement('div');\n",
              "          docLink.innerHTML = docLinkHtml;\n",
              "          element.appendChild(docLink);\n",
              "        }\n",
              "      </script>\n",
              "    </div>\n",
              "  </div>\n",
              "  "
            ]
          },
          "metadata": {},
          "execution_count": 22
        }
      ]
    },
    {
      "cell_type": "markdown",
      "source": [
        "##Saving the obtained dataframe as csv"
      ],
      "metadata": {
        "id": "V02ZXPJgfllM"
      }
    },
    {
      "cell_type": "code",
      "source": [
        "data.to_csv('/content/drive/MyDrive/dataset.csv')"
      ],
      "metadata": {
        "id": "ljUKGvggY5vv"
      },
      "execution_count": null,
      "outputs": []
    },
    {
      "cell_type": "markdown",
      "source": [
        "#BERT - NLI Model"
      ],
      "metadata": {
        "id": "xt-X014vf01m"
      }
    },
    {
      "cell_type": "code",
      "execution_count": null,
      "metadata": {
        "id": "m2rABBmW6HdC"
      },
      "outputs": [],
      "source": [
        "import torch\n",
        "SEED = 1111\n",
        "torch.manual_seed(SEED)\n",
        "torch.backends.cudnn.deterministic = True"
      ]
    },
    {
      "cell_type": "markdown",
      "source": [
        "##Using BERT Tokenizer"
      ],
      "metadata": {
        "id": "_vvvQEbyfwqC"
      }
    },
    {
      "cell_type": "code",
      "execution_count": null,
      "metadata": {
        "colab": {
          "base_uri": "https://localhost:8080/",
          "height": 130,
          "referenced_widgets": [
            "536ab0f647f04df08a89ea65fce5e8c8",
            "e3056675c4c94f53b89f478223ab3396",
            "87d207b27ce9480694493639de8db3a6",
            "4b579d02be44442cb23354d526c9cb18",
            "911a3a776121492c816db2c40f82d660",
            "249ac2e6fc3e49aba23b514375db0f7e",
            "5871ac9c4d7b4389887287a71cddd723",
            "a145791d5c884dffbb820f33d855ef30",
            "4fc6d0ee254442a6b062eae4b5a0475b",
            "18d66b582ac04021bd699a04495a7924",
            "6dcd2e4ec32a498e818a38c10e39d722",
            "8ac55d4bb4194681b9b30427d2d63d4d",
            "b786bd25ec714946a5cfba9626af8e88",
            "01f411afd4874fbd9d862032c0aa9e79",
            "8fa9ddac86e84a759186839668a3874b",
            "19b96ef9c40141799f4e1f64765b19f6",
            "9231f351fd7e4b02953ba7830bc905c8",
            "b2d2180293154dd9ba61cada18709b1e",
            "499eae15b65840d6b8d2d017d97f13bf",
            "4fb67807f06e48008c517a9ea6df3e5b",
            "54f289ae3e89482a86748dce60a97fa2",
            "7d5e1a2c0afd47ce914df82fab939cd9",
            "b0fae9e206c549cdab855fb226d8df2f",
            "69871ed701e94991aa9ebe1b47d2e3ec",
            "8783880a00e941a0812ebb59af630579",
            "7cbdc9c223134a9f8b7a51334dfb6ee5",
            "fbc6ec253ca845fcb2875ca1fd353295",
            "ae58770f874148fe9725bc0cc3943f55",
            "f7e4f24f576f40efb50562d9d2d67ef8",
            "ab061e69338d466caca1d28a4773ace8",
            "89dd5d477ffe4aa18928bb3bd649df6d",
            "9b7d1f15bd7f447984b8a795cf12b0cf",
            "16a57f37973049e8b74f1d5a9054b2fd"
          ]
        },
        "id": "elXttd8S6KHD",
        "outputId": "7a9f417a-eabf-4472-db5e-4c9c568cd533"
      },
      "outputs": [
        {
          "output_type": "display_data",
          "data": {
            "text/plain": [
              "Downloading:   0%|          | 0.00/232k [00:00<?, ?B/s]"
            ],
            "application/vnd.jupyter.widget-view+json": {
              "version_major": 2,
              "version_minor": 0,
              "model_id": "536ab0f647f04df08a89ea65fce5e8c8"
            }
          },
          "metadata": {}
        },
        {
          "output_type": "display_data",
          "data": {
            "text/plain": [
              "Downloading:   0%|          | 0.00/28.0 [00:00<?, ?B/s]"
            ],
            "application/vnd.jupyter.widget-view+json": {
              "version_major": 2,
              "version_minor": 0,
              "model_id": "8ac55d4bb4194681b9b30427d2d63d4d"
            }
          },
          "metadata": {}
        },
        {
          "output_type": "display_data",
          "data": {
            "text/plain": [
              "Downloading:   0%|          | 0.00/570 [00:00<?, ?B/s]"
            ],
            "application/vnd.jupyter.widget-view+json": {
              "version_major": 2,
              "version_minor": 0,
              "model_id": "b0fae9e206c549cdab855fb226d8df2f"
            }
          },
          "metadata": {}
        },
        {
          "output_type": "execute_result",
          "data": {
            "text/plain": [
              "30522"
            ]
          },
          "metadata": {},
          "execution_count": 25
        }
      ],
      "source": [
        "from transformers import BertTokenizer\n",
        "tokenizer = BertTokenizer.from_pretrained('bert-base-uncased')\n",
        "len(tokenizer)"
      ]
    },
    {
      "cell_type": "code",
      "execution_count": null,
      "metadata": {
        "colab": {
          "base_uri": "https://localhost:8080/"
        },
        "id": "8IycqaKR6ktX",
        "outputId": "53c97432-2fb0-4982-ead1-44ab5e556e3a"
      },
      "outputs": [
        {
          "output_type": "stream",
          "name": "stdout",
          "text": [
            "[CLS] [SEP] [PAD] [UNK]\n",
            "101 102 0 100\n"
          ]
        }
      ],
      "source": [
        "cls_token = tokenizer.cls_token\n",
        "sep_token = tokenizer.sep_token\n",
        "pad_token = tokenizer.pad_token\n",
        "unk_token = tokenizer.unk_token\n",
        "print(cls_token, sep_token, pad_token, unk_token)\n",
        "cls_token_idx = tokenizer.cls_token_id\n",
        "sep_token_idx = tokenizer.sep_token_id\n",
        "pad_token_idx = tokenizer.pad_token_id\n",
        "unk_token_idx = tokenizer.unk_token_id\n",
        "print(cls_token_idx, sep_token_idx, pad_token_idx, unk_token_idx)"
      ]
    },
    {
      "cell_type": "code",
      "execution_count": null,
      "metadata": {
        "id": "RVWeYZSY7LOE"
      },
      "outputs": [],
      "source": [
        "max_input_length = 512"
      ]
    },
    {
      "cell_type": "markdown",
      "source": [
        "##Helper Functions for the model"
      ],
      "metadata": {
        "id": "2fYBp_K0gGia"
      }
    },
    {
      "cell_type": "code",
      "execution_count": null,
      "metadata": {
        "id": "3yx1U9Ex7JZ5"
      },
      "outputs": [],
      "source": [
        "def tokenize_bert(sentence):\n",
        "    tokens = tokenizer.tokenize(sentence) \n",
        "    return tokens\n",
        "def split_and_cut(sentence):\n",
        "    tokens = sentence.strip().split(\" \")\n",
        "    tokens = tokens[:max_input_length]\n",
        "    return tokens\n",
        "\n",
        "def trim_sentence(sent):\n",
        "    try:\n",
        "        sent = sent.split()\n",
        "        sent = sent[:128]\n",
        "        return \" \".join(sent)\n",
        "    except:\n",
        "        return sent"
      ]
    },
    {
      "cell_type": "code",
      "execution_count": null,
      "metadata": {
        "id": "9j82xStx7cJT"
      },
      "outputs": [],
      "source": [
        "#Get list of 0s \n",
        "def get_sent1_token_type(sent):\n",
        "    try:\n",
        "        return [0]* len(sent)\n",
        "    except:\n",
        "        return []\n",
        "#Get list of 1s\n",
        "def get_sent2_token_type(sent):\n",
        "    try:\n",
        "        return [1]* len(sent)\n",
        "    except:\n",
        "        return []\n",
        "#combine from lists\n",
        "def combine_seq(seq):\n",
        "    return \" \".join(seq)\n",
        "#combines from lists of int\n",
        "def combine_mask(mask):\n",
        "    mask = [str(m) for m in mask]\n",
        "    return \" \".join(mask)"
      ]
    },
    {
      "cell_type": "markdown",
      "source": [
        "##Preprocess Dataset to fit BERT - NLI Model"
      ],
      "metadata": {
        "id": "0J8SYLSggTWz"
      }
    },
    {
      "cell_type": "markdown",
      "source": [
        "gold_label is the label, sentence1 is the premise and sentence2 is the Hypothesis"
      ],
      "metadata": {
        "id": "Co6gI_pBgYns"
      }
    },
    {
      "cell_type": "code",
      "execution_count": null,
      "metadata": {
        "id": "tUuWMFTn84dd"
      },
      "outputs": [],
      "source": [
        "df = pd.read_csv('/content/drive/MyDrive/dataset.csv')"
      ]
    },
    {
      "cell_type": "markdown",
      "source": [
        "Set Hypothesis here"
      ],
      "metadata": {
        "id": "fJZdiClKgilS"
      }
    },
    {
      "cell_type": "code",
      "source": [
        "hypothesis = ' is represented positively here'"
      ],
      "metadata": {
        "id": "RznB1W2-DN25"
      },
      "execution_count": null,
      "outputs": []
    },
    {
      "cell_type": "code",
      "execution_count": null,
      "metadata": {
        "id": "IzPtkRdc9AXv"
      },
      "outputs": [],
      "source": [
        "data = pd.DataFrame(columns = ['gold_label','sentence1','sentence2'])\n",
        "for i in range(len(df)):\n",
        "  pol = ''\n",
        "  if df['polarity'][i] == 'contradiction':\n",
        "    continue\n",
        "  elif df['polarity'][i] == '0.0':\n",
        "    pol = 'contradiction'\n",
        "  elif df['polarity'][i] == '0.3':\n",
        "    pol = 'contradiction'\n",
        "  elif df['polarity'][i] == '0.5':\n",
        "    pol = 'neutral'\n",
        "  elif df['polarity'][i] == '0.7':\n",
        "    pol = 'entailment'\n",
        "  elif df['polarity'][i] == '1.0':\n",
        "    pol = 'entailment'\n",
        "  # id = df['content'][i].find('\\n')\n",
        "  # print(id)\n",
        "  s1 = df['content'][i][44:]\n",
        "  s2 = df['entity'][i]+hypothesis\n",
        "  d = {'gold_label':pol, 'sentence1':s1, 'sentence2':s2}\n",
        "  data = data.append(d, ignore_index=True)"
      ]
    },
    {
      "cell_type": "markdown",
      "source": [
        "###Final Dataset"
      ],
      "metadata": {
        "id": "3PhECabkgs_J"
      }
    },
    {
      "cell_type": "code",
      "execution_count": null,
      "metadata": {
        "colab": {
          "base_uri": "https://localhost:8080/",
          "height": 424
        },
        "id": "P1HAxcY3_eaz",
        "outputId": "2fe633ac-5785-49af-fdbf-8951b22d39d7"
      },
      "outputs": [
        {
          "output_type": "execute_result",
          "data": {
            "text/plain": [
              "          gold_label                                          sentence1  \\\n",
              "0            neutral  Tesla is Now Officially More Than Just About C...   \n",
              "1         entailment  Health insurer Aetna\\'s quarterly profit beats...   \n",
              "2         entailment  The Capital Hotel sold to American hospitality...   \n",
              "3      contradiction  German prosecutors investigate Volkswagen chai...   \n",
              "4      contradiction  German prosecutors investigate Volkswagen chai...   \n",
              "...              ...                                                ...   \n",
              "19713     entailment  Yahoo to change name to Altaba\\nYahoo will ado...   \n",
              "19714     entailment  Ryanair to pivot growth away from the UK\\nBudg...   \n",
              "19715     entailment  Russian Hackers Con Advertisers out of $5 Mill...   \n",
              "19716     entailment  Russian cybercriminals make $180 million with ...   \n",
              "19717     entailment  VW\\u2019s 13th brand: Moia, for ride-hailing (...   \n",
              "\n",
              "                                               sentence2  \n",
              "0              \"Facebook\" is represented positively here  \n",
              "1                 \"Aetna\" is represented positively here  \n",
              "2      \"WarwickHotels&Resorts\" is represented positiv...  \n",
              "3            \"Volkswagen\" is represented positively here  \n",
              "4            \"Volkswagen\" is represented positively here  \n",
              "...                                                  ...  \n",
              "19713             \"Yahoo\" is represented positively here  \n",
              "19714           \"Ryanair\" is represented positively here  \n",
              "19715          \"WhiteOps\" is represented positively here  \n",
              "19716          \"WhiteOps\" is represented positively here  \n",
              "19717        \"Volkswagen\" is represented positively here  \n",
              "\n",
              "[19718 rows x 3 columns]"
            ],
            "text/html": [
              "\n",
              "  <div id=\"df-390ef063-d266-4bd9-8bdc-063a8fd8245f\">\n",
              "    <div class=\"colab-df-container\">\n",
              "      <div>\n",
              "<style scoped>\n",
              "    .dataframe tbody tr th:only-of-type {\n",
              "        vertical-align: middle;\n",
              "    }\n",
              "\n",
              "    .dataframe tbody tr th {\n",
              "        vertical-align: top;\n",
              "    }\n",
              "\n",
              "    .dataframe thead th {\n",
              "        text-align: right;\n",
              "    }\n",
              "</style>\n",
              "<table border=\"1\" class=\"dataframe\">\n",
              "  <thead>\n",
              "    <tr style=\"text-align: right;\">\n",
              "      <th></th>\n",
              "      <th>gold_label</th>\n",
              "      <th>sentence1</th>\n",
              "      <th>sentence2</th>\n",
              "    </tr>\n",
              "  </thead>\n",
              "  <tbody>\n",
              "    <tr>\n",
              "      <th>0</th>\n",
              "      <td>neutral</td>\n",
              "      <td>Tesla is Now Officially More Than Just About C...</td>\n",
              "      <td>\"Facebook\" is represented positively here</td>\n",
              "    </tr>\n",
              "    <tr>\n",
              "      <th>1</th>\n",
              "      <td>entailment</td>\n",
              "      <td>Health insurer Aetna\\'s quarterly profit beats...</td>\n",
              "      <td>\"Aetna\" is represented positively here</td>\n",
              "    </tr>\n",
              "    <tr>\n",
              "      <th>2</th>\n",
              "      <td>entailment</td>\n",
              "      <td>The Capital Hotel sold to American hospitality...</td>\n",
              "      <td>\"WarwickHotels&amp;Resorts\" is represented positiv...</td>\n",
              "    </tr>\n",
              "    <tr>\n",
              "      <th>3</th>\n",
              "      <td>contradiction</td>\n",
              "      <td>German prosecutors investigate Volkswagen chai...</td>\n",
              "      <td>\"Volkswagen\" is represented positively here</td>\n",
              "    </tr>\n",
              "    <tr>\n",
              "      <th>4</th>\n",
              "      <td>contradiction</td>\n",
              "      <td>German prosecutors investigate Volkswagen chai...</td>\n",
              "      <td>\"Volkswagen\" is represented positively here</td>\n",
              "    </tr>\n",
              "    <tr>\n",
              "      <th>...</th>\n",
              "      <td>...</td>\n",
              "      <td>...</td>\n",
              "      <td>...</td>\n",
              "    </tr>\n",
              "    <tr>\n",
              "      <th>19713</th>\n",
              "      <td>entailment</td>\n",
              "      <td>Yahoo to change name to Altaba\\nYahoo will ado...</td>\n",
              "      <td>\"Yahoo\" is represented positively here</td>\n",
              "    </tr>\n",
              "    <tr>\n",
              "      <th>19714</th>\n",
              "      <td>entailment</td>\n",
              "      <td>Ryanair to pivot growth away from the UK\\nBudg...</td>\n",
              "      <td>\"Ryanair\" is represented positively here</td>\n",
              "    </tr>\n",
              "    <tr>\n",
              "      <th>19715</th>\n",
              "      <td>entailment</td>\n",
              "      <td>Russian Hackers Con Advertisers out of $5 Mill...</td>\n",
              "      <td>\"WhiteOps\" is represented positively here</td>\n",
              "    </tr>\n",
              "    <tr>\n",
              "      <th>19716</th>\n",
              "      <td>entailment</td>\n",
              "      <td>Russian cybercriminals make $180 million with ...</td>\n",
              "      <td>\"WhiteOps\" is represented positively here</td>\n",
              "    </tr>\n",
              "    <tr>\n",
              "      <th>19717</th>\n",
              "      <td>entailment</td>\n",
              "      <td>VW\\u2019s 13th brand: Moia, for ride-hailing (...</td>\n",
              "      <td>\"Volkswagen\" is represented positively here</td>\n",
              "    </tr>\n",
              "  </tbody>\n",
              "</table>\n",
              "<p>19718 rows × 3 columns</p>\n",
              "</div>\n",
              "      <button class=\"colab-df-convert\" onclick=\"convertToInteractive('df-390ef063-d266-4bd9-8bdc-063a8fd8245f')\"\n",
              "              title=\"Convert this dataframe to an interactive table.\"\n",
              "              style=\"display:none;\">\n",
              "        \n",
              "  <svg xmlns=\"http://www.w3.org/2000/svg\" height=\"24px\"viewBox=\"0 0 24 24\"\n",
              "       width=\"24px\">\n",
              "    <path d=\"M0 0h24v24H0V0z\" fill=\"none\"/>\n",
              "    <path d=\"M18.56 5.44l.94 2.06.94-2.06 2.06-.94-2.06-.94-.94-2.06-.94 2.06-2.06.94zm-11 1L8.5 8.5l.94-2.06 2.06-.94-2.06-.94L8.5 2.5l-.94 2.06-2.06.94zm10 10l.94 2.06.94-2.06 2.06-.94-2.06-.94-.94-2.06-.94 2.06-2.06.94z\"/><path d=\"M17.41 7.96l-1.37-1.37c-.4-.4-.92-.59-1.43-.59-.52 0-1.04.2-1.43.59L10.3 9.45l-7.72 7.72c-.78.78-.78 2.05 0 2.83L4 21.41c.39.39.9.59 1.41.59.51 0 1.02-.2 1.41-.59l7.78-7.78 2.81-2.81c.8-.78.8-2.07 0-2.86zM5.41 20L4 18.59l7.72-7.72 1.47 1.35L5.41 20z\"/>\n",
              "  </svg>\n",
              "      </button>\n",
              "      \n",
              "  <style>\n",
              "    .colab-df-container {\n",
              "      display:flex;\n",
              "      flex-wrap:wrap;\n",
              "      gap: 12px;\n",
              "    }\n",
              "\n",
              "    .colab-df-convert {\n",
              "      background-color: #E8F0FE;\n",
              "      border: none;\n",
              "      border-radius: 50%;\n",
              "      cursor: pointer;\n",
              "      display: none;\n",
              "      fill: #1967D2;\n",
              "      height: 32px;\n",
              "      padding: 0 0 0 0;\n",
              "      width: 32px;\n",
              "    }\n",
              "\n",
              "    .colab-df-convert:hover {\n",
              "      background-color: #E2EBFA;\n",
              "      box-shadow: 0px 1px 2px rgba(60, 64, 67, 0.3), 0px 1px 3px 1px rgba(60, 64, 67, 0.15);\n",
              "      fill: #174EA6;\n",
              "    }\n",
              "\n",
              "    [theme=dark] .colab-df-convert {\n",
              "      background-color: #3B4455;\n",
              "      fill: #D2E3FC;\n",
              "    }\n",
              "\n",
              "    [theme=dark] .colab-df-convert:hover {\n",
              "      background-color: #434B5C;\n",
              "      box-shadow: 0px 1px 3px 1px rgba(0, 0, 0, 0.15);\n",
              "      filter: drop-shadow(0px 1px 2px rgba(0, 0, 0, 0.3));\n",
              "      fill: #FFFFFF;\n",
              "    }\n",
              "  </style>\n",
              "\n",
              "      <script>\n",
              "        const buttonEl =\n",
              "          document.querySelector('#df-390ef063-d266-4bd9-8bdc-063a8fd8245f button.colab-df-convert');\n",
              "        buttonEl.style.display =\n",
              "          google.colab.kernel.accessAllowed ? 'block' : 'none';\n",
              "\n",
              "        async function convertToInteractive(key) {\n",
              "          const element = document.querySelector('#df-390ef063-d266-4bd9-8bdc-063a8fd8245f');\n",
              "          const dataTable =\n",
              "            await google.colab.kernel.invokeFunction('convertToInteractive',\n",
              "                                                     [key], {});\n",
              "          if (!dataTable) return;\n",
              "\n",
              "          const docLinkHtml = 'Like what you see? Visit the ' +\n",
              "            '<a target=\"_blank\" href=https://colab.research.google.com/notebooks/data_table.ipynb>data table notebook</a>'\n",
              "            + ' to learn more about interactive tables.';\n",
              "          element.innerHTML = '';\n",
              "          dataTable['output_type'] = 'display_data';\n",
              "          await google.colab.output.renderOutput(dataTable, element);\n",
              "          const docLink = document.createElement('div');\n",
              "          docLink.innerHTML = docLinkHtml;\n",
              "          element.appendChild(docLink);\n",
              "        }\n",
              "      </script>\n",
              "    </div>\n",
              "  </div>\n",
              "  "
            ]
          },
          "metadata": {},
          "execution_count": 32
        }
      ],
      "source": [
        "data"
      ]
    },
    {
      "cell_type": "markdown",
      "source": [
        "###Split into train-dev-test at 60-20-20"
      ],
      "metadata": {
        "id": "TtZIxQmagwN5"
      }
    },
    {
      "cell_type": "code",
      "execution_count": null,
      "metadata": {
        "id": "Ij-XMkKd_97j"
      },
      "outputs": [],
      "source": [
        "df_train, df_dev, df_test = np.split(data.sample(frac=1, random_state=19), [int(.6*len(data)), int(.8*len(data))])"
      ]
    },
    {
      "cell_type": "code",
      "execution_count": null,
      "metadata": {
        "colab": {
          "base_uri": "https://localhost:8080/",
          "height": 424
        },
        "id": "tuXZaeG3AMvO",
        "outputId": "b2546816-8f33-44ef-a5fd-03dc954f04fd"
      },
      "outputs": [
        {
          "output_type": "execute_result",
          "data": {
            "text/plain": [
              "          gold_label                                          sentence1  \\\n",
              "9564      entailment  Siklu radios deployed in Houston for video sur...   \n",
              "4082   contradiction  Holden could gain French flavour\\nGREG KABLE\\n...   \n",
              "661    contradiction  Singapore fines banks for 1MDB Fund links\\nSIN...   \n",
              "15048  contradiction  The Tyson Foods, Inc. (TSN) Downgraded by Vetr...   \n",
              "7103         neutral  Britain needs to hire 400,000 workers a year t...   \n",
              "...              ...                                                ...   \n",
              "6452   contradiction  Pizza Hut struggling, Yum blames weak delivery...   \n",
              "1043   contradiction  Yahoo!'s (YHOO) Marissa Mayer to Resign from B...   \n",
              "1378   contradiction  Yahoo to change name to Altaba; Marissa Mayer ...   \n",
              "17141     entailment  iPhone 8 could have curved OLED screen with a ...   \n",
              "10862     entailment  Santander bank to work with IBM developing mob...   \n",
              "\n",
              "                                               sentence2  \n",
              "9564              \"Siklu\" is represented positively here  \n",
              "4082      \"GeneralMotors\" is represented positively here  \n",
              "661    \"GoldmanSachsGroup\" is represented positively ...  \n",
              "15048        \"TysonFoods\" is represented positively here  \n",
              "7103            \"Arcadis\" is represented positively here  \n",
              "...                                                  ...  \n",
              "6452          \"YumBrands\" is represented positively here  \n",
              "1043              \"Yahoo\" is represented positively here  \n",
              "1378              \"Yahoo\" is represented positively here  \n",
              "17141             \"Apple\" is represented positively here  \n",
              "10862    \"BancoSantander\" is represented positively here  \n",
              "\n",
              "[3944 rows x 3 columns]"
            ],
            "text/html": [
              "\n",
              "  <div id=\"df-5b8ab5ed-df00-4228-8744-0fd6132d3548\">\n",
              "    <div class=\"colab-df-container\">\n",
              "      <div>\n",
              "<style scoped>\n",
              "    .dataframe tbody tr th:only-of-type {\n",
              "        vertical-align: middle;\n",
              "    }\n",
              "\n",
              "    .dataframe tbody tr th {\n",
              "        vertical-align: top;\n",
              "    }\n",
              "\n",
              "    .dataframe thead th {\n",
              "        text-align: right;\n",
              "    }\n",
              "</style>\n",
              "<table border=\"1\" class=\"dataframe\">\n",
              "  <thead>\n",
              "    <tr style=\"text-align: right;\">\n",
              "      <th></th>\n",
              "      <th>gold_label</th>\n",
              "      <th>sentence1</th>\n",
              "      <th>sentence2</th>\n",
              "    </tr>\n",
              "  </thead>\n",
              "  <tbody>\n",
              "    <tr>\n",
              "      <th>9564</th>\n",
              "      <td>entailment</td>\n",
              "      <td>Siklu radios deployed in Houston for video sur...</td>\n",
              "      <td>\"Siklu\" is represented positively here</td>\n",
              "    </tr>\n",
              "    <tr>\n",
              "      <th>4082</th>\n",
              "      <td>contradiction</td>\n",
              "      <td>Holden could gain French flavour\\nGREG KABLE\\n...</td>\n",
              "      <td>\"GeneralMotors\" is represented positively here</td>\n",
              "    </tr>\n",
              "    <tr>\n",
              "      <th>661</th>\n",
              "      <td>contradiction</td>\n",
              "      <td>Singapore fines banks for 1MDB Fund links\\nSIN...</td>\n",
              "      <td>\"GoldmanSachsGroup\" is represented positively ...</td>\n",
              "    </tr>\n",
              "    <tr>\n",
              "      <th>15048</th>\n",
              "      <td>contradiction</td>\n",
              "      <td>The Tyson Foods, Inc. (TSN) Downgraded by Vetr...</td>\n",
              "      <td>\"TysonFoods\" is represented positively here</td>\n",
              "    </tr>\n",
              "    <tr>\n",
              "      <th>7103</th>\n",
              "      <td>neutral</td>\n",
              "      <td>Britain needs to hire 400,000 workers a year t...</td>\n",
              "      <td>\"Arcadis\" is represented positively here</td>\n",
              "    </tr>\n",
              "    <tr>\n",
              "      <th>...</th>\n",
              "      <td>...</td>\n",
              "      <td>...</td>\n",
              "      <td>...</td>\n",
              "    </tr>\n",
              "    <tr>\n",
              "      <th>6452</th>\n",
              "      <td>contradiction</td>\n",
              "      <td>Pizza Hut struggling, Yum blames weak delivery...</td>\n",
              "      <td>\"YumBrands\" is represented positively here</td>\n",
              "    </tr>\n",
              "    <tr>\n",
              "      <th>1043</th>\n",
              "      <td>contradiction</td>\n",
              "      <td>Yahoo!'s (YHOO) Marissa Mayer to Resign from B...</td>\n",
              "      <td>\"Yahoo\" is represented positively here</td>\n",
              "    </tr>\n",
              "    <tr>\n",
              "      <th>1378</th>\n",
              "      <td>contradiction</td>\n",
              "      <td>Yahoo to change name to Altaba; Marissa Mayer ...</td>\n",
              "      <td>\"Yahoo\" is represented positively here</td>\n",
              "    </tr>\n",
              "    <tr>\n",
              "      <th>17141</th>\n",
              "      <td>entailment</td>\n",
              "      <td>iPhone 8 could have curved OLED screen with a ...</td>\n",
              "      <td>\"Apple\" is represented positively here</td>\n",
              "    </tr>\n",
              "    <tr>\n",
              "      <th>10862</th>\n",
              "      <td>entailment</td>\n",
              "      <td>Santander bank to work with IBM developing mob...</td>\n",
              "      <td>\"BancoSantander\" is represented positively here</td>\n",
              "    </tr>\n",
              "  </tbody>\n",
              "</table>\n",
              "<p>3944 rows × 3 columns</p>\n",
              "</div>\n",
              "      <button class=\"colab-df-convert\" onclick=\"convertToInteractive('df-5b8ab5ed-df00-4228-8744-0fd6132d3548')\"\n",
              "              title=\"Convert this dataframe to an interactive table.\"\n",
              "              style=\"display:none;\">\n",
              "        \n",
              "  <svg xmlns=\"http://www.w3.org/2000/svg\" height=\"24px\"viewBox=\"0 0 24 24\"\n",
              "       width=\"24px\">\n",
              "    <path d=\"M0 0h24v24H0V0z\" fill=\"none\"/>\n",
              "    <path d=\"M18.56 5.44l.94 2.06.94-2.06 2.06-.94-2.06-.94-.94-2.06-.94 2.06-2.06.94zm-11 1L8.5 8.5l.94-2.06 2.06-.94-2.06-.94L8.5 2.5l-.94 2.06-2.06.94zm10 10l.94 2.06.94-2.06 2.06-.94-2.06-.94-.94-2.06-.94 2.06-2.06.94z\"/><path d=\"M17.41 7.96l-1.37-1.37c-.4-.4-.92-.59-1.43-.59-.52 0-1.04.2-1.43.59L10.3 9.45l-7.72 7.72c-.78.78-.78 2.05 0 2.83L4 21.41c.39.39.9.59 1.41.59.51 0 1.02-.2 1.41-.59l7.78-7.78 2.81-2.81c.8-.78.8-2.07 0-2.86zM5.41 20L4 18.59l7.72-7.72 1.47 1.35L5.41 20z\"/>\n",
              "  </svg>\n",
              "      </button>\n",
              "      \n",
              "  <style>\n",
              "    .colab-df-container {\n",
              "      display:flex;\n",
              "      flex-wrap:wrap;\n",
              "      gap: 12px;\n",
              "    }\n",
              "\n",
              "    .colab-df-convert {\n",
              "      background-color: #E8F0FE;\n",
              "      border: none;\n",
              "      border-radius: 50%;\n",
              "      cursor: pointer;\n",
              "      display: none;\n",
              "      fill: #1967D2;\n",
              "      height: 32px;\n",
              "      padding: 0 0 0 0;\n",
              "      width: 32px;\n",
              "    }\n",
              "\n",
              "    .colab-df-convert:hover {\n",
              "      background-color: #E2EBFA;\n",
              "      box-shadow: 0px 1px 2px rgba(60, 64, 67, 0.3), 0px 1px 3px 1px rgba(60, 64, 67, 0.15);\n",
              "      fill: #174EA6;\n",
              "    }\n",
              "\n",
              "    [theme=dark] .colab-df-convert {\n",
              "      background-color: #3B4455;\n",
              "      fill: #D2E3FC;\n",
              "    }\n",
              "\n",
              "    [theme=dark] .colab-df-convert:hover {\n",
              "      background-color: #434B5C;\n",
              "      box-shadow: 0px 1px 3px 1px rgba(0, 0, 0, 0.15);\n",
              "      filter: drop-shadow(0px 1px 2px rgba(0, 0, 0, 0.3));\n",
              "      fill: #FFFFFF;\n",
              "    }\n",
              "  </style>\n",
              "\n",
              "      <script>\n",
              "        const buttonEl =\n",
              "          document.querySelector('#df-5b8ab5ed-df00-4228-8744-0fd6132d3548 button.colab-df-convert');\n",
              "        buttonEl.style.display =\n",
              "          google.colab.kernel.accessAllowed ? 'block' : 'none';\n",
              "\n",
              "        async function convertToInteractive(key) {\n",
              "          const element = document.querySelector('#df-5b8ab5ed-df00-4228-8744-0fd6132d3548');\n",
              "          const dataTable =\n",
              "            await google.colab.kernel.invokeFunction('convertToInteractive',\n",
              "                                                     [key], {});\n",
              "          if (!dataTable) return;\n",
              "\n",
              "          const docLinkHtml = 'Like what you see? Visit the ' +\n",
              "            '<a target=\"_blank\" href=https://colab.research.google.com/notebooks/data_table.ipynb>data table notebook</a>'\n",
              "            + ' to learn more about interactive tables.';\n",
              "          element.innerHTML = '';\n",
              "          dataTable['output_type'] = 'display_data';\n",
              "          await google.colab.output.renderOutput(dataTable, element);\n",
              "          const docLink = document.createElement('div');\n",
              "          docLink.innerHTML = docLinkHtml;\n",
              "          element.appendChild(docLink);\n",
              "        }\n",
              "      </script>\n",
              "    </div>\n",
              "  </div>\n",
              "  "
            ]
          },
          "metadata": {},
          "execution_count": 34
        }
      ],
      "source": [
        "df_test"
      ]
    },
    {
      "cell_type": "markdown",
      "source": [
        "###Tokenize, add special tokens and masks"
      ],
      "metadata": {
        "id": "DXmYKk2ng37b"
      }
    },
    {
      "cell_type": "code",
      "execution_count": null,
      "metadata": {
        "id": "njTpI7e-7kuW"
      },
      "outputs": [],
      "source": [
        "#Get neccesary columns\n",
        "df_train = df_train[['gold_label','sentence1','sentence2']]\n",
        "df_dev = df_dev[['gold_label','sentence1','sentence2']]\n",
        "df_test = df_test[['gold_label','sentence1','sentence2']]\n",
        "\n",
        "# #Take small dataset\n",
        "# df_train = df_train[:80000]\n",
        "# df_dev = df_train[:8000]\n",
        "# df_test = df_train[:8000]\n",
        "\n",
        "#Trim each sentence upto maximum length\n",
        "df_train['sentence1'] = df_train['sentence1'].apply(trim_sentence)\n",
        "df_train['sentence2'] = df_train['sentence2'].apply(trim_sentence)\n",
        "df_dev['sentence1'] = df_dev['sentence1'].apply(trim_sentence)\n",
        "df_dev['sentence2'] = df_dev['sentence2'].apply(trim_sentence)\n",
        "df_test['sentence1'] = df_test['sentence1'].apply(trim_sentence)\n",
        "df_test['sentence2'] = df_test['sentence2'].apply(trim_sentence)\n",
        "\n",
        "#Add [CLS] and [SEP] tokens\n",
        "df_train['sent1'] = '[CLS] ' + df_train['sentence1'] + ' [SEP] '\n",
        "df_train['sent2'] = df_train['sentence2'] + ' [SEP]'\n",
        "df_dev['sent1'] = '[CLS] ' + df_dev['sentence1'] + ' [SEP] '\n",
        "df_dev['sent2'] = df_dev['sentence2'] + ' [SEP]'\n",
        "df_test['sent1'] = '[CLS] ' + df_test['sentence1'] + ' [SEP] '\n",
        "df_test['sent2'] = df_test['sentence2'] + ' [SEP]'\n",
        "\n",
        "#Apply Bert Tokenizer for tokeinizing\n",
        "df_train['sent1_t'] = df_train['sent1'].apply(tokenize_bert)\n",
        "df_train['sent2_t'] = df_train['sent2'].apply(tokenize_bert)\n",
        "df_dev['sent1_t'] = df_dev['sent1'].apply(tokenize_bert)\n",
        "df_dev['sent2_t'] = df_dev['sent2'].apply(tokenize_bert)\n",
        "df_test['sent1_t'] = df_test['sent1'].apply(tokenize_bert)\n",
        "df_test['sent2_t'] = df_test['sent2'].apply(tokenize_bert)\n",
        "\n",
        "\n",
        "#Get Topen type ids for both sentence\n",
        "df_train['sent1_token_type'] = df_train['sent1_t'].apply(get_sent1_token_type)\n",
        "df_train['sent2_token_type'] = df_train['sent2_t'].apply(get_sent2_token_type)\n",
        "df_dev['sent1_token_type'] = df_dev['sent1_t'].apply(get_sent1_token_type)\n",
        "df_dev['sent2_token_type'] = df_dev['sent2_t'].apply(get_sent2_token_type)\n",
        "df_test['sent1_token_type'] = df_test['sent1_t'].apply(get_sent1_token_type)\n",
        "df_test['sent2_token_type'] = df_test['sent2_t'].apply(get_sent2_token_type)\n",
        "\n",
        "#Combine both sequences\n",
        "df_train['sequence'] = df_train['sent1_t'] + df_train['sent2_t']\n",
        "df_dev['sequence'] = df_dev['sent1_t'] + df_dev['sent2_t']\n",
        "df_test['sequence'] = df_test['sent1_t'] + df_test['sent2_t']\n",
        "\n",
        "\n",
        "#Get attention mask\n",
        "df_train['attention_mask'] = df_train['sequence'].apply(get_sent2_token_type)\n",
        "df_dev['attention_mask'] = df_dev['sequence'].apply(get_sent2_token_type)\n",
        "df_test['attention_mask'] = df_test['sequence'].apply(get_sent2_token_type)\n",
        "\n",
        "#Get combined token type ids for input\n",
        "df_train['token_type'] = df_train['sent1_token_type'] + df_train['sent2_token_type']\n",
        "df_dev['token_type'] = df_dev['sent1_token_type'] + df_dev['sent2_token_type']\n",
        "df_test['token_type'] = df_test['sent1_token_type'] + df_test['sent2_token_type']\n",
        "\n",
        "#Now make all these inputs as sequential data to be easily fed into torchtext Field.\n",
        "df_train['sequence'] = df_train['sequence'].apply(combine_seq)\n",
        "df_dev['sequence'] = df_dev['sequence'].apply(combine_seq)\n",
        "df_test['sequence'] = df_test['sequence'].apply(combine_seq)\n",
        "df_train['attention_mask'] = df_train['attention_mask'].apply(combine_mask)\n",
        "df_dev['attention_mask'] = df_dev['attention_mask'].apply(combine_mask)\n",
        "df_test['attention_mask'] = df_test['attention_mask'].apply(combine_mask)\n",
        "df_train['token_type'] = df_train['token_type'].apply(combine_mask)\n",
        "df_dev['token_type'] = df_dev['token_type'].apply(combine_mask)\n",
        "df_test['token_type'] = df_test['token_type'].apply(combine_mask)\n",
        "df_train = df_train[['gold_label', 'sequence', 'attention_mask', 'token_type']]\n",
        "df_dev = df_dev[['gold_label', 'sequence', 'attention_mask', 'token_type']]\n",
        "df_test = df_test[['gold_label', 'sequence', 'attention_mask', 'token_type']]\n",
        "df_train = df_train.loc[df_train['gold_label'].isin(['entailment','contradiction','neutral'])]\n",
        "df_dev = df_dev.loc[df_dev['gold_label'].isin(['entailment','contradiction','neutral'])]\n",
        "df_test = df_test.loc[df_test['gold_label'].isin(['entailment','contradiction','neutral'])]\n"
      ]
    },
    {
      "cell_type": "code",
      "execution_count": null,
      "metadata": {
        "colab": {
          "base_uri": "https://localhost:8080/",
          "height": 424
        },
        "id": "SDWYvk4cDKhe",
        "outputId": "7572fff7-028f-48b6-9d96-7a394f722769"
      },
      "outputs": [
        {
          "output_type": "execute_result",
          "data": {
            "text/plain": [
              "          gold_label                                           sequence  \\\n",
              "6743   contradiction  [CLS] uber software head leaves as past harass...   \n",
              "13205     entailment  [CLS] tesla brings electric cars to super ##ca...   \n",
              "2390   contradiction  [CLS] qu ##al ##com is sued by apple for with ...   \n",
              "15471  contradiction  [CLS] samsung \\ ' s thinking of splitting in t...   \n",
              "17624     entailment  [CLS] apple will use drones to compete with go...   \n",
              "...              ...                                                ...   \n",
              "4731   contradiction  [CLS] bernie sanders thinks donald trump ' s c...   \n",
              "16091  contradiction  [CLS] us government accuse ##s fiat chrysler o...   \n",
              "8139      entailment  [CLS] mcdonald ' s sells china business in dea...   \n",
              "12962     entailment  [CLS] boeing front - runner for $ 13 . 8 billi...   \n",
              "18039     entailment  [CLS] rite aid , wal ##gree ##ns will sell 86 ...   \n",
              "\n",
              "                                          attention_mask  \\\n",
              "6743   1 1 1 1 1 1 1 1 1 1 1 1 1 1 1 1 1 1 1 1 1 1 1 ...   \n",
              "13205  1 1 1 1 1 1 1 1 1 1 1 1 1 1 1 1 1 1 1 1 1 1 1 ...   \n",
              "2390   1 1 1 1 1 1 1 1 1 1 1 1 1 1 1 1 1 1 1 1 1 1 1 ...   \n",
              "15471  1 1 1 1 1 1 1 1 1 1 1 1 1 1 1 1 1 1 1 1 1 1 1 ...   \n",
              "17624  1 1 1 1 1 1 1 1 1 1 1 1 1 1 1 1 1 1 1 1 1 1 1 ...   \n",
              "...                                                  ...   \n",
              "4731   1 1 1 1 1 1 1 1 1 1 1 1 1 1 1 1 1 1 1 1 1 1 1 ...   \n",
              "16091  1 1 1 1 1 1 1 1 1 1 1 1 1 1 1 1 1 1 1 1 1 1 1 ...   \n",
              "8139   1 1 1 1 1 1 1 1 1 1 1 1 1 1 1 1 1 1 1 1 1 1 1 ...   \n",
              "12962  1 1 1 1 1 1 1 1 1 1 1 1 1 1 1 1 1 1 1 1 1 1 1 ...   \n",
              "18039  1 1 1 1 1 1 1 1 1 1 1 1 1 1 1 1 1 1 1 1 1 1 1 ...   \n",
              "\n",
              "                                              token_type  \n",
              "6743   0 0 0 0 0 0 0 0 0 0 0 0 0 0 0 0 0 0 0 0 0 0 0 ...  \n",
              "13205  0 0 0 0 0 0 0 0 0 0 0 0 0 0 0 0 0 0 0 0 0 0 0 ...  \n",
              "2390   0 0 0 0 0 0 0 0 0 0 0 0 0 0 0 0 0 0 0 0 0 0 0 ...  \n",
              "15471  0 0 0 0 0 0 0 0 0 0 0 0 0 0 0 0 0 0 0 0 0 0 0 ...  \n",
              "17624  0 0 0 0 0 0 0 0 0 0 0 0 0 0 0 0 0 0 0 0 0 0 0 ...  \n",
              "...                                                  ...  \n",
              "4731   0 0 0 0 0 0 0 0 0 0 0 0 0 0 0 0 0 0 0 0 0 0 0 ...  \n",
              "16091  0 0 0 0 0 0 0 0 0 0 0 0 0 0 0 0 0 0 0 0 0 0 0 ...  \n",
              "8139   0 0 0 0 0 0 0 0 0 0 0 0 0 0 0 0 0 0 0 0 0 0 0 ...  \n",
              "12962  0 0 0 0 0 0 0 0 0 0 0 0 0 0 0 0 0 0 0 0 0 0 0 ...  \n",
              "18039  0 0 0 0 0 0 0 0 0 0 0 0 0 0 0 0 0 0 0 0 0 0 0 ...  \n",
              "\n",
              "[11830 rows x 4 columns]"
            ],
            "text/html": [
              "\n",
              "  <div id=\"df-b782c9cc-cbcc-471e-8e06-d3af3910d0dc\">\n",
              "    <div class=\"colab-df-container\">\n",
              "      <div>\n",
              "<style scoped>\n",
              "    .dataframe tbody tr th:only-of-type {\n",
              "        vertical-align: middle;\n",
              "    }\n",
              "\n",
              "    .dataframe tbody tr th {\n",
              "        vertical-align: top;\n",
              "    }\n",
              "\n",
              "    .dataframe thead th {\n",
              "        text-align: right;\n",
              "    }\n",
              "</style>\n",
              "<table border=\"1\" class=\"dataframe\">\n",
              "  <thead>\n",
              "    <tr style=\"text-align: right;\">\n",
              "      <th></th>\n",
              "      <th>gold_label</th>\n",
              "      <th>sequence</th>\n",
              "      <th>attention_mask</th>\n",
              "      <th>token_type</th>\n",
              "    </tr>\n",
              "  </thead>\n",
              "  <tbody>\n",
              "    <tr>\n",
              "      <th>6743</th>\n",
              "      <td>contradiction</td>\n",
              "      <td>[CLS] uber software head leaves as past harass...</td>\n",
              "      <td>1 1 1 1 1 1 1 1 1 1 1 1 1 1 1 1 1 1 1 1 1 1 1 ...</td>\n",
              "      <td>0 0 0 0 0 0 0 0 0 0 0 0 0 0 0 0 0 0 0 0 0 0 0 ...</td>\n",
              "    </tr>\n",
              "    <tr>\n",
              "      <th>13205</th>\n",
              "      <td>entailment</td>\n",
              "      <td>[CLS] tesla brings electric cars to super ##ca...</td>\n",
              "      <td>1 1 1 1 1 1 1 1 1 1 1 1 1 1 1 1 1 1 1 1 1 1 1 ...</td>\n",
              "      <td>0 0 0 0 0 0 0 0 0 0 0 0 0 0 0 0 0 0 0 0 0 0 0 ...</td>\n",
              "    </tr>\n",
              "    <tr>\n",
              "      <th>2390</th>\n",
              "      <td>contradiction</td>\n",
              "      <td>[CLS] qu ##al ##com is sued by apple for with ...</td>\n",
              "      <td>1 1 1 1 1 1 1 1 1 1 1 1 1 1 1 1 1 1 1 1 1 1 1 ...</td>\n",
              "      <td>0 0 0 0 0 0 0 0 0 0 0 0 0 0 0 0 0 0 0 0 0 0 0 ...</td>\n",
              "    </tr>\n",
              "    <tr>\n",
              "      <th>15471</th>\n",
              "      <td>contradiction</td>\n",
              "      <td>[CLS] samsung \\ ' s thinking of splitting in t...</td>\n",
              "      <td>1 1 1 1 1 1 1 1 1 1 1 1 1 1 1 1 1 1 1 1 1 1 1 ...</td>\n",
              "      <td>0 0 0 0 0 0 0 0 0 0 0 0 0 0 0 0 0 0 0 0 0 0 0 ...</td>\n",
              "    </tr>\n",
              "    <tr>\n",
              "      <th>17624</th>\n",
              "      <td>entailment</td>\n",
              "      <td>[CLS] apple will use drones to compete with go...</td>\n",
              "      <td>1 1 1 1 1 1 1 1 1 1 1 1 1 1 1 1 1 1 1 1 1 1 1 ...</td>\n",
              "      <td>0 0 0 0 0 0 0 0 0 0 0 0 0 0 0 0 0 0 0 0 0 0 0 ...</td>\n",
              "    </tr>\n",
              "    <tr>\n",
              "      <th>...</th>\n",
              "      <td>...</td>\n",
              "      <td>...</td>\n",
              "      <td>...</td>\n",
              "      <td>...</td>\n",
              "    </tr>\n",
              "    <tr>\n",
              "      <th>4731</th>\n",
              "      <td>contradiction</td>\n",
              "      <td>[CLS] bernie sanders thinks donald trump ' s c...</td>\n",
              "      <td>1 1 1 1 1 1 1 1 1 1 1 1 1 1 1 1 1 1 1 1 1 1 1 ...</td>\n",
              "      <td>0 0 0 0 0 0 0 0 0 0 0 0 0 0 0 0 0 0 0 0 0 0 0 ...</td>\n",
              "    </tr>\n",
              "    <tr>\n",
              "      <th>16091</th>\n",
              "      <td>contradiction</td>\n",
              "      <td>[CLS] us government accuse ##s fiat chrysler o...</td>\n",
              "      <td>1 1 1 1 1 1 1 1 1 1 1 1 1 1 1 1 1 1 1 1 1 1 1 ...</td>\n",
              "      <td>0 0 0 0 0 0 0 0 0 0 0 0 0 0 0 0 0 0 0 0 0 0 0 ...</td>\n",
              "    </tr>\n",
              "    <tr>\n",
              "      <th>8139</th>\n",
              "      <td>entailment</td>\n",
              "      <td>[CLS] mcdonald ' s sells china business in dea...</td>\n",
              "      <td>1 1 1 1 1 1 1 1 1 1 1 1 1 1 1 1 1 1 1 1 1 1 1 ...</td>\n",
              "      <td>0 0 0 0 0 0 0 0 0 0 0 0 0 0 0 0 0 0 0 0 0 0 0 ...</td>\n",
              "    </tr>\n",
              "    <tr>\n",
              "      <th>12962</th>\n",
              "      <td>entailment</td>\n",
              "      <td>[CLS] boeing front - runner for $ 13 . 8 billi...</td>\n",
              "      <td>1 1 1 1 1 1 1 1 1 1 1 1 1 1 1 1 1 1 1 1 1 1 1 ...</td>\n",
              "      <td>0 0 0 0 0 0 0 0 0 0 0 0 0 0 0 0 0 0 0 0 0 0 0 ...</td>\n",
              "    </tr>\n",
              "    <tr>\n",
              "      <th>18039</th>\n",
              "      <td>entailment</td>\n",
              "      <td>[CLS] rite aid , wal ##gree ##ns will sell 86 ...</td>\n",
              "      <td>1 1 1 1 1 1 1 1 1 1 1 1 1 1 1 1 1 1 1 1 1 1 1 ...</td>\n",
              "      <td>0 0 0 0 0 0 0 0 0 0 0 0 0 0 0 0 0 0 0 0 0 0 0 ...</td>\n",
              "    </tr>\n",
              "  </tbody>\n",
              "</table>\n",
              "<p>11830 rows × 4 columns</p>\n",
              "</div>\n",
              "      <button class=\"colab-df-convert\" onclick=\"convertToInteractive('df-b782c9cc-cbcc-471e-8e06-d3af3910d0dc')\"\n",
              "              title=\"Convert this dataframe to an interactive table.\"\n",
              "              style=\"display:none;\">\n",
              "        \n",
              "  <svg xmlns=\"http://www.w3.org/2000/svg\" height=\"24px\"viewBox=\"0 0 24 24\"\n",
              "       width=\"24px\">\n",
              "    <path d=\"M0 0h24v24H0V0z\" fill=\"none\"/>\n",
              "    <path d=\"M18.56 5.44l.94 2.06.94-2.06 2.06-.94-2.06-.94-.94-2.06-.94 2.06-2.06.94zm-11 1L8.5 8.5l.94-2.06 2.06-.94-2.06-.94L8.5 2.5l-.94 2.06-2.06.94zm10 10l.94 2.06.94-2.06 2.06-.94-2.06-.94-.94-2.06-.94 2.06-2.06.94z\"/><path d=\"M17.41 7.96l-1.37-1.37c-.4-.4-.92-.59-1.43-.59-.52 0-1.04.2-1.43.59L10.3 9.45l-7.72 7.72c-.78.78-.78 2.05 0 2.83L4 21.41c.39.39.9.59 1.41.59.51 0 1.02-.2 1.41-.59l7.78-7.78 2.81-2.81c.8-.78.8-2.07 0-2.86zM5.41 20L4 18.59l7.72-7.72 1.47 1.35L5.41 20z\"/>\n",
              "  </svg>\n",
              "      </button>\n",
              "      \n",
              "  <style>\n",
              "    .colab-df-container {\n",
              "      display:flex;\n",
              "      flex-wrap:wrap;\n",
              "      gap: 12px;\n",
              "    }\n",
              "\n",
              "    .colab-df-convert {\n",
              "      background-color: #E8F0FE;\n",
              "      border: none;\n",
              "      border-radius: 50%;\n",
              "      cursor: pointer;\n",
              "      display: none;\n",
              "      fill: #1967D2;\n",
              "      height: 32px;\n",
              "      padding: 0 0 0 0;\n",
              "      width: 32px;\n",
              "    }\n",
              "\n",
              "    .colab-df-convert:hover {\n",
              "      background-color: #E2EBFA;\n",
              "      box-shadow: 0px 1px 2px rgba(60, 64, 67, 0.3), 0px 1px 3px 1px rgba(60, 64, 67, 0.15);\n",
              "      fill: #174EA6;\n",
              "    }\n",
              "\n",
              "    [theme=dark] .colab-df-convert {\n",
              "      background-color: #3B4455;\n",
              "      fill: #D2E3FC;\n",
              "    }\n",
              "\n",
              "    [theme=dark] .colab-df-convert:hover {\n",
              "      background-color: #434B5C;\n",
              "      box-shadow: 0px 1px 3px 1px rgba(0, 0, 0, 0.15);\n",
              "      filter: drop-shadow(0px 1px 2px rgba(0, 0, 0, 0.3));\n",
              "      fill: #FFFFFF;\n",
              "    }\n",
              "  </style>\n",
              "\n",
              "      <script>\n",
              "        const buttonEl =\n",
              "          document.querySelector('#df-b782c9cc-cbcc-471e-8e06-d3af3910d0dc button.colab-df-convert');\n",
              "        buttonEl.style.display =\n",
              "          google.colab.kernel.accessAllowed ? 'block' : 'none';\n",
              "\n",
              "        async function convertToInteractive(key) {\n",
              "          const element = document.querySelector('#df-b782c9cc-cbcc-471e-8e06-d3af3910d0dc');\n",
              "          const dataTable =\n",
              "            await google.colab.kernel.invokeFunction('convertToInteractive',\n",
              "                                                     [key], {});\n",
              "          if (!dataTable) return;\n",
              "\n",
              "          const docLinkHtml = 'Like what you see? Visit the ' +\n",
              "            '<a target=\"_blank\" href=https://colab.research.google.com/notebooks/data_table.ipynb>data table notebook</a>'\n",
              "            + ' to learn more about interactive tables.';\n",
              "          element.innerHTML = '';\n",
              "          dataTable['output_type'] = 'display_data';\n",
              "          await google.colab.output.renderOutput(dataTable, element);\n",
              "          const docLink = document.createElement('div');\n",
              "          docLink.innerHTML = docLinkHtml;\n",
              "          element.appendChild(docLink);\n",
              "        }\n",
              "      </script>\n",
              "    </div>\n",
              "  </div>\n",
              "  "
            ]
          },
          "metadata": {},
          "execution_count": 36
        }
      ],
      "source": [
        "df_train"
      ]
    },
    {
      "cell_type": "code",
      "source": [
        "df_test"
      ],
      "metadata": {
        "colab": {
          "base_uri": "https://localhost:8080/",
          "height": 424
        },
        "id": "W43cx4NGlOeR",
        "outputId": "c4908856-75b0-45ac-bde8-25067602bc1b"
      },
      "execution_count": null,
      "outputs": [
        {
          "output_type": "execute_result",
          "data": {
            "text/plain": [
              "          gold_label                                           sequence  \\\n",
              "9564      entailment  [CLS] si ##k ##lu radios deployed in houston f...   \n",
              "4082   contradiction  [CLS] holden could gain french flavour \\ ng ##...   \n",
              "661    contradiction  [CLS] singapore fines banks for 1 ##md ##b fun...   \n",
              "15048  contradiction  [CLS] the tyson foods , inc . ( ts ##n ) down ...   \n",
              "7103         neutral  [CLS] britain needs to hire 400 , 000 workers ...   \n",
              "...              ...                                                ...   \n",
              "6452   contradiction  [CLS] pizza hut struggling , yu ##m blame ##s ...   \n",
              "1043   contradiction  [CLS] yahoo ! ' s ( y ##ho ##o ) marissa mayer...   \n",
              "1378   contradiction  [CLS] yahoo to change name to alta ##ba ; mari...   \n",
              "17141     entailment  [CLS] iphone 8 could have curved ole ##d scree...   \n",
              "10862     entailment  [CLS] santa ##nder bank to work with ibm devel...   \n",
              "\n",
              "                                          attention_mask  \\\n",
              "9564   1 1 1 1 1 1 1 1 1 1 1 1 1 1 1 1 1 1 1 1 1 1 1 ...   \n",
              "4082   1 1 1 1 1 1 1 1 1 1 1 1 1 1 1 1 1 1 1 1 1 1 1 ...   \n",
              "661    1 1 1 1 1 1 1 1 1 1 1 1 1 1 1 1 1 1 1 1 1 1 1 ...   \n",
              "15048  1 1 1 1 1 1 1 1 1 1 1 1 1 1 1 1 1 1 1 1 1 1 1 ...   \n",
              "7103   1 1 1 1 1 1 1 1 1 1 1 1 1 1 1 1 1 1 1 1 1 1 1 ...   \n",
              "...                                                  ...   \n",
              "6452   1 1 1 1 1 1 1 1 1 1 1 1 1 1 1 1 1 1 1 1 1 1 1 ...   \n",
              "1043   1 1 1 1 1 1 1 1 1 1 1 1 1 1 1 1 1 1 1 1 1 1 1 ...   \n",
              "1378   1 1 1 1 1 1 1 1 1 1 1 1 1 1 1 1 1 1 1 1 1 1 1 ...   \n",
              "17141  1 1 1 1 1 1 1 1 1 1 1 1 1 1 1 1 1 1 1 1 1 1 1 ...   \n",
              "10862  1 1 1 1 1 1 1 1 1 1 1 1 1 1 1 1 1 1 1 1 1 1 1 ...   \n",
              "\n",
              "                                              token_type  \n",
              "9564   0 0 0 0 0 0 0 0 0 0 0 0 0 0 0 0 0 0 0 0 0 0 0 ...  \n",
              "4082   0 0 0 0 0 0 0 0 0 0 0 0 0 0 0 0 0 0 0 0 0 0 0 ...  \n",
              "661    0 0 0 0 0 0 0 0 0 0 0 0 0 0 0 0 0 0 0 0 0 0 0 ...  \n",
              "15048  0 0 0 0 0 0 0 0 0 0 0 0 0 0 0 0 0 0 0 0 0 0 0 ...  \n",
              "7103   0 0 0 0 0 0 0 0 0 0 0 0 0 0 0 0 0 0 0 0 0 0 0 ...  \n",
              "...                                                  ...  \n",
              "6452   0 0 0 0 0 0 0 0 0 0 0 0 0 0 0 0 0 0 0 0 0 0 0 ...  \n",
              "1043   0 0 0 0 0 0 0 0 0 0 0 0 0 0 0 0 0 0 0 0 0 0 0 ...  \n",
              "1378   0 0 0 0 0 0 0 0 0 0 0 0 0 0 0 0 0 0 0 0 0 0 0 ...  \n",
              "17141  0 0 0 0 0 0 0 0 0 0 0 0 0 0 0 0 0 0 0 0 0 0 0 ...  \n",
              "10862  0 0 0 0 0 0 0 0 0 0 0 0 0 0 0 0 0 0 0 0 0 0 0 ...  \n",
              "\n",
              "[3944 rows x 4 columns]"
            ],
            "text/html": [
              "\n",
              "  <div id=\"df-9f310736-9af9-4c3d-a6ff-8bda3a5f70dd\">\n",
              "    <div class=\"colab-df-container\">\n",
              "      <div>\n",
              "<style scoped>\n",
              "    .dataframe tbody tr th:only-of-type {\n",
              "        vertical-align: middle;\n",
              "    }\n",
              "\n",
              "    .dataframe tbody tr th {\n",
              "        vertical-align: top;\n",
              "    }\n",
              "\n",
              "    .dataframe thead th {\n",
              "        text-align: right;\n",
              "    }\n",
              "</style>\n",
              "<table border=\"1\" class=\"dataframe\">\n",
              "  <thead>\n",
              "    <tr style=\"text-align: right;\">\n",
              "      <th></th>\n",
              "      <th>gold_label</th>\n",
              "      <th>sequence</th>\n",
              "      <th>attention_mask</th>\n",
              "      <th>token_type</th>\n",
              "    </tr>\n",
              "  </thead>\n",
              "  <tbody>\n",
              "    <tr>\n",
              "      <th>9564</th>\n",
              "      <td>entailment</td>\n",
              "      <td>[CLS] si ##k ##lu radios deployed in houston f...</td>\n",
              "      <td>1 1 1 1 1 1 1 1 1 1 1 1 1 1 1 1 1 1 1 1 1 1 1 ...</td>\n",
              "      <td>0 0 0 0 0 0 0 0 0 0 0 0 0 0 0 0 0 0 0 0 0 0 0 ...</td>\n",
              "    </tr>\n",
              "    <tr>\n",
              "      <th>4082</th>\n",
              "      <td>contradiction</td>\n",
              "      <td>[CLS] holden could gain french flavour \\ ng ##...</td>\n",
              "      <td>1 1 1 1 1 1 1 1 1 1 1 1 1 1 1 1 1 1 1 1 1 1 1 ...</td>\n",
              "      <td>0 0 0 0 0 0 0 0 0 0 0 0 0 0 0 0 0 0 0 0 0 0 0 ...</td>\n",
              "    </tr>\n",
              "    <tr>\n",
              "      <th>661</th>\n",
              "      <td>contradiction</td>\n",
              "      <td>[CLS] singapore fines banks for 1 ##md ##b fun...</td>\n",
              "      <td>1 1 1 1 1 1 1 1 1 1 1 1 1 1 1 1 1 1 1 1 1 1 1 ...</td>\n",
              "      <td>0 0 0 0 0 0 0 0 0 0 0 0 0 0 0 0 0 0 0 0 0 0 0 ...</td>\n",
              "    </tr>\n",
              "    <tr>\n",
              "      <th>15048</th>\n",
              "      <td>contradiction</td>\n",
              "      <td>[CLS] the tyson foods , inc . ( ts ##n ) down ...</td>\n",
              "      <td>1 1 1 1 1 1 1 1 1 1 1 1 1 1 1 1 1 1 1 1 1 1 1 ...</td>\n",
              "      <td>0 0 0 0 0 0 0 0 0 0 0 0 0 0 0 0 0 0 0 0 0 0 0 ...</td>\n",
              "    </tr>\n",
              "    <tr>\n",
              "      <th>7103</th>\n",
              "      <td>neutral</td>\n",
              "      <td>[CLS] britain needs to hire 400 , 000 workers ...</td>\n",
              "      <td>1 1 1 1 1 1 1 1 1 1 1 1 1 1 1 1 1 1 1 1 1 1 1 ...</td>\n",
              "      <td>0 0 0 0 0 0 0 0 0 0 0 0 0 0 0 0 0 0 0 0 0 0 0 ...</td>\n",
              "    </tr>\n",
              "    <tr>\n",
              "      <th>...</th>\n",
              "      <td>...</td>\n",
              "      <td>...</td>\n",
              "      <td>...</td>\n",
              "      <td>...</td>\n",
              "    </tr>\n",
              "    <tr>\n",
              "      <th>6452</th>\n",
              "      <td>contradiction</td>\n",
              "      <td>[CLS] pizza hut struggling , yu ##m blame ##s ...</td>\n",
              "      <td>1 1 1 1 1 1 1 1 1 1 1 1 1 1 1 1 1 1 1 1 1 1 1 ...</td>\n",
              "      <td>0 0 0 0 0 0 0 0 0 0 0 0 0 0 0 0 0 0 0 0 0 0 0 ...</td>\n",
              "    </tr>\n",
              "    <tr>\n",
              "      <th>1043</th>\n",
              "      <td>contradiction</td>\n",
              "      <td>[CLS] yahoo ! ' s ( y ##ho ##o ) marissa mayer...</td>\n",
              "      <td>1 1 1 1 1 1 1 1 1 1 1 1 1 1 1 1 1 1 1 1 1 1 1 ...</td>\n",
              "      <td>0 0 0 0 0 0 0 0 0 0 0 0 0 0 0 0 0 0 0 0 0 0 0 ...</td>\n",
              "    </tr>\n",
              "    <tr>\n",
              "      <th>1378</th>\n",
              "      <td>contradiction</td>\n",
              "      <td>[CLS] yahoo to change name to alta ##ba ; mari...</td>\n",
              "      <td>1 1 1 1 1 1 1 1 1 1 1 1 1 1 1 1 1 1 1 1 1 1 1 ...</td>\n",
              "      <td>0 0 0 0 0 0 0 0 0 0 0 0 0 0 0 0 0 0 0 0 0 0 0 ...</td>\n",
              "    </tr>\n",
              "    <tr>\n",
              "      <th>17141</th>\n",
              "      <td>entailment</td>\n",
              "      <td>[CLS] iphone 8 could have curved ole ##d scree...</td>\n",
              "      <td>1 1 1 1 1 1 1 1 1 1 1 1 1 1 1 1 1 1 1 1 1 1 1 ...</td>\n",
              "      <td>0 0 0 0 0 0 0 0 0 0 0 0 0 0 0 0 0 0 0 0 0 0 0 ...</td>\n",
              "    </tr>\n",
              "    <tr>\n",
              "      <th>10862</th>\n",
              "      <td>entailment</td>\n",
              "      <td>[CLS] santa ##nder bank to work with ibm devel...</td>\n",
              "      <td>1 1 1 1 1 1 1 1 1 1 1 1 1 1 1 1 1 1 1 1 1 1 1 ...</td>\n",
              "      <td>0 0 0 0 0 0 0 0 0 0 0 0 0 0 0 0 0 0 0 0 0 0 0 ...</td>\n",
              "    </tr>\n",
              "  </tbody>\n",
              "</table>\n",
              "<p>3944 rows × 4 columns</p>\n",
              "</div>\n",
              "      <button class=\"colab-df-convert\" onclick=\"convertToInteractive('df-9f310736-9af9-4c3d-a6ff-8bda3a5f70dd')\"\n",
              "              title=\"Convert this dataframe to an interactive table.\"\n",
              "              style=\"display:none;\">\n",
              "        \n",
              "  <svg xmlns=\"http://www.w3.org/2000/svg\" height=\"24px\"viewBox=\"0 0 24 24\"\n",
              "       width=\"24px\">\n",
              "    <path d=\"M0 0h24v24H0V0z\" fill=\"none\"/>\n",
              "    <path d=\"M18.56 5.44l.94 2.06.94-2.06 2.06-.94-2.06-.94-.94-2.06-.94 2.06-2.06.94zm-11 1L8.5 8.5l.94-2.06 2.06-.94-2.06-.94L8.5 2.5l-.94 2.06-2.06.94zm10 10l.94 2.06.94-2.06 2.06-.94-2.06-.94-.94-2.06-.94 2.06-2.06.94z\"/><path d=\"M17.41 7.96l-1.37-1.37c-.4-.4-.92-.59-1.43-.59-.52 0-1.04.2-1.43.59L10.3 9.45l-7.72 7.72c-.78.78-.78 2.05 0 2.83L4 21.41c.39.39.9.59 1.41.59.51 0 1.02-.2 1.41-.59l7.78-7.78 2.81-2.81c.8-.78.8-2.07 0-2.86zM5.41 20L4 18.59l7.72-7.72 1.47 1.35L5.41 20z\"/>\n",
              "  </svg>\n",
              "      </button>\n",
              "      \n",
              "  <style>\n",
              "    .colab-df-container {\n",
              "      display:flex;\n",
              "      flex-wrap:wrap;\n",
              "      gap: 12px;\n",
              "    }\n",
              "\n",
              "    .colab-df-convert {\n",
              "      background-color: #E8F0FE;\n",
              "      border: none;\n",
              "      border-radius: 50%;\n",
              "      cursor: pointer;\n",
              "      display: none;\n",
              "      fill: #1967D2;\n",
              "      height: 32px;\n",
              "      padding: 0 0 0 0;\n",
              "      width: 32px;\n",
              "    }\n",
              "\n",
              "    .colab-df-convert:hover {\n",
              "      background-color: #E2EBFA;\n",
              "      box-shadow: 0px 1px 2px rgba(60, 64, 67, 0.3), 0px 1px 3px 1px rgba(60, 64, 67, 0.15);\n",
              "      fill: #174EA6;\n",
              "    }\n",
              "\n",
              "    [theme=dark] .colab-df-convert {\n",
              "      background-color: #3B4455;\n",
              "      fill: #D2E3FC;\n",
              "    }\n",
              "\n",
              "    [theme=dark] .colab-df-convert:hover {\n",
              "      background-color: #434B5C;\n",
              "      box-shadow: 0px 1px 3px 1px rgba(0, 0, 0, 0.15);\n",
              "      filter: drop-shadow(0px 1px 2px rgba(0, 0, 0, 0.3));\n",
              "      fill: #FFFFFF;\n",
              "    }\n",
              "  </style>\n",
              "\n",
              "      <script>\n",
              "        const buttonEl =\n",
              "          document.querySelector('#df-9f310736-9af9-4c3d-a6ff-8bda3a5f70dd button.colab-df-convert');\n",
              "        buttonEl.style.display =\n",
              "          google.colab.kernel.accessAllowed ? 'block' : 'none';\n",
              "\n",
              "        async function convertToInteractive(key) {\n",
              "          const element = document.querySelector('#df-9f310736-9af9-4c3d-a6ff-8bda3a5f70dd');\n",
              "          const dataTable =\n",
              "            await google.colab.kernel.invokeFunction('convertToInteractive',\n",
              "                                                     [key], {});\n",
              "          if (!dataTable) return;\n",
              "\n",
              "          const docLinkHtml = 'Like what you see? Visit the ' +\n",
              "            '<a target=\"_blank\" href=https://colab.research.google.com/notebooks/data_table.ipynb>data table notebook</a>'\n",
              "            + ' to learn more about interactive tables.';\n",
              "          element.innerHTML = '';\n",
              "          dataTable['output_type'] = 'display_data';\n",
              "          await google.colab.output.renderOutput(dataTable, element);\n",
              "          const docLink = document.createElement('div');\n",
              "          docLink.innerHTML = docLinkHtml;\n",
              "          element.appendChild(docLink);\n",
              "        }\n",
              "      </script>\n",
              "    </div>\n",
              "  </div>\n",
              "  "
            ]
          },
          "metadata": {},
          "execution_count": 37
        }
      ]
    },
    {
      "cell_type": "markdown",
      "source": [
        "###Final datasets saved for future use"
      ],
      "metadata": {
        "id": "WpQelyFchTkE"
      }
    },
    {
      "cell_type": "code",
      "execution_count": null,
      "metadata": {
        "id": "6jv18zd8ETAr"
      },
      "outputs": [],
      "source": [
        "#Save prepared data as csv file\n",
        "df_train.to_csv('/content/drive/MyDrive/nlpData/train.csv', index=False)\n",
        "df_dev.to_csv('/content/drive/MyDrive/nlpData/dev.csv', index=False)\n",
        "df_test.to_csv('/content/drive/MyDrive/nlpData/test.csv', index=False)"
      ]
    },
    {
      "cell_type": "markdown",
      "source": [
        "##Setting up the Model"
      ],
      "metadata": {
        "id": "EHMl0T9fhgIz"
      }
    },
    {
      "cell_type": "markdown",
      "source": [
        "###Helper function"
      ],
      "metadata": {
        "id": "KtbYbk3LhlHT"
      }
    },
    {
      "cell_type": "code",
      "execution_count": null,
      "metadata": {
        "id": "DOTjH51jDLMi"
      },
      "outputs": [],
      "source": [
        "# To convert back attention mask and token type ids to integer.\n",
        "def convert_to_int(tok_ids):\n",
        "    tok_ids = [int(x) for x in tok_ids]\n",
        "    return tok_ids"
      ]
    },
    {
      "cell_type": "code",
      "source": [
        "from torchtext.legacy import data"
      ],
      "metadata": {
        "id": "Wo8eyx9HbKn6"
      },
      "execution_count": null,
      "outputs": []
    },
    {
      "cell_type": "code",
      "execution_count": null,
      "metadata": {
        "id": "UzX5D7vqDVEt"
      },
      "outputs": [],
      "source": [
        "#For sequence\n",
        "TEXT = data.Field(batch_first = True,\n",
        "                  use_vocab = False,\n",
        "                  tokenize = split_and_cut,\n",
        "                  preprocessing = tokenizer.convert_tokens_to_ids,\n",
        "                  pad_token = pad_token_idx,\n",
        "                  unk_token = unk_token_idx)\n",
        "#For label\n",
        "LABEL = data.LabelField()\n",
        "#For Attention mask\n",
        "ATTENTION = data.Field(batch_first = True,\n",
        "                  use_vocab = False,\n",
        "                  tokenize = split_and_cut,\n",
        "                  preprocessing = convert_to_int,\n",
        "                  pad_token = pad_token_idx)\n",
        "#For token type ids\n",
        "TTYPE = data.Field(batch_first = True,\n",
        "                  use_vocab = False,\n",
        "                  tokenize = split_and_cut,\n",
        "                  preprocessing = convert_to_int,\n",
        "                  pad_token = 1)"
      ]
    },
    {
      "cell_type": "code",
      "execution_count": null,
      "metadata": {
        "id": "q6AdL9ClH8H2"
      },
      "outputs": [],
      "source": [
        "fields = [('label', LABEL), ('sequence', TEXT), ('attention_mask', ATTENTION), ('token_type', TTYPE)]"
      ]
    },
    {
      "cell_type": "markdown",
      "source": [
        "###Obtain the datasets"
      ],
      "metadata": {
        "id": "_tK0ALL-hopb"
      }
    },
    {
      "cell_type": "code",
      "execution_count": null,
      "metadata": {
        "id": "JH14tZjlIADb"
      },
      "outputs": [],
      "source": [
        "train_data, valid_data, test_data = data.TabularDataset.splits(\n",
        "                                        path = '/content/drive/MyDrive/nlpData/',\n",
        "                                        train = 'train.csv',\n",
        "                                        validation = 'dev.csv',\n",
        "                                        test = 'test.csv',\n",
        "                                        format = 'csv',\n",
        "                                        fields = fields,\n",
        "                                        skip_header = True)"
      ]
    },
    {
      "cell_type": "code",
      "execution_count": null,
      "metadata": {
        "id": "UEZYHNJEIt4V"
      },
      "outputs": [],
      "source": [
        "LABEL.build_vocab(train_data)"
      ]
    },
    {
      "cell_type": "markdown",
      "source": [
        "###Model iterator"
      ],
      "metadata": {
        "id": "tnb2PhbHh4NF"
      }
    },
    {
      "cell_type": "code",
      "execution_count": null,
      "metadata": {
        "id": "Yhp_rp-TIuOa"
      },
      "outputs": [],
      "source": [
        "#Create iterator\n",
        "BATCH_SIZE = 16\n",
        "device = torch.device('cuda' if torch.cuda.is_available() else 'cpu')\n",
        "train_iterator, valid_iterator, test_iterator = data.BucketIterator.splits(\n",
        "    (train_data, valid_data, test_data), \n",
        "    batch_size = BATCH_SIZE,\n",
        "    sort_key = lambda x: len(x.sequence),\n",
        "    sort_within_batch = False, \n",
        "    device = device)"
      ]
    },
    {
      "cell_type": "markdown",
      "source": [
        "###Using BERT Transformer"
      ],
      "metadata": {
        "id": "YQopNVd7h8h9"
      }
    },
    {
      "cell_type": "code",
      "execution_count": null,
      "metadata": {
        "colab": {
          "base_uri": "https://localhost:8080/",
          "height": 121,
          "referenced_widgets": [
            "1498a7d5c8644a29b8673e2278f5802b",
            "e9b15856daf44eb2b91522820c567984",
            "4490b59648174188b691da86e8542de6",
            "dda53e32d4994632a7b9a7163d3f7b4c",
            "36c834b52a2d4e47aae39e5f66772d9b",
            "b57d24b138c9431bab382285eb3005b4",
            "aebd238921cd421aa7efecfe447fa7c6",
            "094239f66cc64c7e96cf5e4056bc81bd",
            "c43ab7aeab8142e996d5430ee9c90361",
            "ca3378b88ed245f3ae0bc6ceb9207fa8",
            "84ca7663918946debf08f04257cfddb7"
          ]
        },
        "id": "FnIs6Q_PIwcp",
        "outputId": "28a2a08c-e801-441d-9c49-1cffb2387ec8"
      },
      "outputs": [
        {
          "output_type": "display_data",
          "data": {
            "text/plain": [
              "Downloading:   0%|          | 0.00/440M [00:00<?, ?B/s]"
            ],
            "application/vnd.jupyter.widget-view+json": {
              "version_major": 2,
              "version_minor": 0,
              "model_id": "1498a7d5c8644a29b8673e2278f5802b"
            }
          },
          "metadata": {}
        },
        {
          "output_type": "stream",
          "name": "stderr",
          "text": [
            "Some weights of the model checkpoint at bert-base-uncased were not used when initializing BertModel: ['cls.predictions.transform.LayerNorm.bias', 'cls.predictions.transform.dense.bias', 'cls.predictions.bias', 'cls.seq_relationship.bias', 'cls.seq_relationship.weight', 'cls.predictions.transform.dense.weight', 'cls.predictions.transform.LayerNorm.weight', 'cls.predictions.decoder.weight']\n",
            "- This IS expected if you are initializing BertModel from the checkpoint of a model trained on another task or with another architecture (e.g. initializing a BertForSequenceClassification model from a BertForPreTraining model).\n",
            "- This IS NOT expected if you are initializing BertModel from the checkpoint of a model that you expect to be exactly identical (initializing a BertForSequenceClassification model from a BertForSequenceClassification model).\n"
          ]
        }
      ],
      "source": [
        "from transformers import BertModel\n",
        "bert_model = BertModel.from_pretrained('bert-base-uncased')"
      ]
    },
    {
      "cell_type": "markdown",
      "source": [
        "###Model Class"
      ],
      "metadata": {
        "id": "4cgxFgJSiA80"
      }
    },
    {
      "cell_type": "code",
      "execution_count": null,
      "metadata": {
        "id": "rRslRacPI-jk"
      },
      "outputs": [],
      "source": [
        "class BERTNLIModel(nn.Module):\n",
        "    def __init__(self,\n",
        "\n",
        "                 bert_model,\n",
        "\n",
        "                 hidden_dim,\n",
        "\n",
        "                 output_dim,\n",
        "\n",
        "                ):\n",
        "        super().__init__()\n",
        "        self.bert = bert_model\n",
        "\n",
        "        embedding_dim = bert_model.config.to_dict()['hidden_size']\n",
        "        self.out = nn.Linear(embedding_dim, output_dim)\n",
        "    def forward(self, sequence, attn_mask, token_type):\n",
        "        embedded = self.bert(input_ids = sequence, attention_mask = attn_mask, token_type_ids= token_type)[1]\n",
        "        output = self.out(embedded)\n",
        "        return output"
      ]
    },
    {
      "cell_type": "markdown",
      "source": [
        "###Hyperparameters"
      ],
      "metadata": {
        "id": "TWlu3XTBiD33"
      }
    },
    {
      "cell_type": "code",
      "execution_count": null,
      "metadata": {
        "id": "QJzbvAAtJIST"
      },
      "outputs": [],
      "source": [
        "#defining model\n",
        "HIDDEN_DIM = 512\n",
        "OUTPUT_DIM = len(LABEL.vocab)\n",
        "model = BERTNLIModel(bert_model,\n",
        "                         HIDDEN_DIM,\n",
        "                         OUTPUT_DIM,\n",
        "                        ).to('cuda')"
      ]
    },
    {
      "cell_type": "markdown",
      "source": [
        "###Initialize Model on Apex GPU"
      ],
      "metadata": {
        "id": "1BBIgJlTiHeh"
      }
    },
    {
      "cell_type": "code",
      "execution_count": null,
      "metadata": {
        "colab": {
          "base_uri": "https://localhost:8080/"
        },
        "id": "S8cBO5tdRcda",
        "outputId": "89ca78a2-6924-48aa-935c-d5552a584b40"
      },
      "outputs": [
        {
          "output_type": "stream",
          "name": "stdout",
          "text": [
            "Selected optimization level O1:  Insert automatic casts around Pytorch functions and Tensor methods.\n",
            "\n",
            "Defaults for this optimization level are:\n",
            "enabled                : True\n",
            "opt_level              : O1\n",
            "cast_model_type        : None\n",
            "patch_torch_functions  : True\n",
            "keep_batchnorm_fp32    : None\n",
            "master_weights         : None\n",
            "loss_scale             : dynamic\n",
            "Processing user overrides (additional kwargs that are not None)...\n",
            "After processing overrides, optimization options are:\n",
            "enabled                : True\n",
            "opt_level              : O1\n",
            "cast_model_type        : None\n",
            "patch_torch_functions  : True\n",
            "keep_batchnorm_fp32    : None\n",
            "master_weights         : None\n",
            "loss_scale             : dynamic\n",
            "Warning:  multi_tensor_applier fused unscale kernel is unavailable, possibly because apex was installed without --cuda_ext --cpp_ext. Using Python fallback.  Original ImportError was: ModuleNotFoundError(\"No module named 'amp_C'\")\n"
          ]
        },
        {
          "output_type": "stream",
          "name": "stderr",
          "text": [
            "/usr/local/lib/python3.7/dist-packages/transformers/optimization.py:310: FutureWarning: This implementation of AdamW is deprecated and will be removed in a future version. Use the PyTorch implementation torch.optim.AdamW instead, or set `no_deprecation_warning=True` to disable this warning\n",
            "  FutureWarning,\n",
            "/content/apex/apex/__init__.py:68: DeprecatedFeatureWarning: apex.amp is deprecated and will be removed by the end of February 2023. Use [PyTorch AMP](https://pytorch.org/docs/stable/amp.html)\n",
            "  warnings.warn(msg, DeprecatedFeatureWarning)\n"
          ]
        }
      ],
      "source": [
        "optimizer = AdamW(model.parameters(),lr=2e-5,eps=1e-6,correct_bias=False)\n",
        "def get_scheduler(optimizer, warmup_steps):\n",
        "    scheduler = get_constant_schedule_with_warmup(optimizer, num_warmup_steps=warmup_steps)\n",
        "    return scheduler\n",
        "criterion = nn.CrossEntropyLoss().to(device)\n",
        "mp = True\n",
        "if mp:\n",
        "    try:\n",
        "        from apex import amp\n",
        "    except ImportError:\n",
        "        raise ImportError(\"Please install apex from https://www.github.com/nvidia/apex to use fp16 training.\")\n",
        "    model, optimizer = amp.initialize(model, optimizer, opt_level='O1')"
      ]
    },
    {
      "cell_type": "markdown",
      "source": [
        "###Helper functions for Train, Evaluate and Obtaining Accuracy"
      ],
      "metadata": {
        "id": "xn7eAR0AiRWv"
      }
    },
    {
      "cell_type": "code",
      "execution_count": null,
      "metadata": {
        "id": "gJEBMWsoJNdi"
      },
      "outputs": [],
      "source": [
        "def categorical_accuracy(preds, y):\n",
        "    max_preds = preds.argmax(dim = 1, keepdim = True)\n",
        "\n",
        "    correct = (max_preds.squeeze(1)==y).float()\n",
        "\n",
        "    return correct.sum() / len(y)"
      ]
    },
    {
      "cell_type": "code",
      "execution_count": null,
      "metadata": {
        "id": "9Vtd2NkNigQD"
      },
      "outputs": [],
      "source": [
        "fp16 = True"
      ]
    },
    {
      "cell_type": "code",
      "execution_count": null,
      "metadata": {
        "id": "qkoo893Ng2Is"
      },
      "outputs": [],
      "source": [
        "max_grad_norm = 1\n",
        "\n",
        "def train(model, iterator, optimizer, criterion, scheduler):\n",
        "    #print(iterator)\n",
        "    \n",
        "    epoch_loss = 0\n",
        "    epoch_acc = 0\n",
        "    \n",
        "    model.train()\n",
        "    \n",
        "    for batch in iterator:\n",
        "\n",
        "        optimizer.zero_grad() # clear gradients first\n",
        "        torch.cuda.empty_cache() # releases all unoccupied cached memory \n",
        "        \n",
        "\n",
        "        sequence = batch.sequence\n",
        "        attn_mask = batch.attention_mask\n",
        "        token_type = batch.token_type\n",
        "        #print(sequence.size(), attn_mask.size(), token_type.size())\n",
        "        #print(sequence[0])\n",
        "        #print(attn_mask[0])\n",
        "        #print(token_type[0])\n",
        "        label = batch.label\n",
        "        \n",
        "        predictions = model(sequence, attn_mask, token_type)\n",
        "        \n",
        "        #predictions = [batch_size, 3]\n",
        "        #print(predictions.size())\n",
        "        \n",
        "        loss = criterion(predictions, label)\n",
        "        \n",
        "        acc = categorical_accuracy(predictions, label)\n",
        "        \n",
        "        if fp16:\n",
        "            with amp.scale_loss(loss, optimizer) as scaled_loss:\n",
        "                scaled_loss.backward()\n",
        "            torch.nn.utils.clip_grad_norm_(amp.master_params(optimizer), max_grad_norm)\n",
        "        else:\n",
        "            loss.backward()\n",
        "        \n",
        "        optimizer.step()\n",
        "        scheduler.step()\n",
        "        \n",
        "        epoch_loss += loss.item()\n",
        "        epoch_acc += acc.item()\n",
        "        \n",
        "    return epoch_loss / len(iterator), epoch_acc / len(iterator)"
      ]
    },
    {
      "cell_type": "code",
      "source": [
        "f1 = F1Score(num_classes=3, average = 'macro').to('cuda')\n",
        "acc = Accuracy().to('cuda')"
      ],
      "metadata": {
        "id": "Jan_pRbVEyUh"
      },
      "execution_count": null,
      "outputs": []
    },
    {
      "cell_type": "code",
      "execution_count": null,
      "metadata": {
        "id": "DGY1jcMTg53u"
      },
      "outputs": [],
      "source": [
        "def evaluate(model, iterator, criterion):\n",
        "    #print(iterator)\n",
        "    epoch_loss = 0\n",
        "    epoch_acc = 0\n",
        "    score = 0\n",
        "    model.eval()\n",
        "    \n",
        "    with torch.no_grad():\n",
        "        for batch in iterator:\n",
        "            #print(batch)\n",
        "\n",
        "            sequence = batch.sequence\n",
        "            attn_mask = batch.attention_mask\n",
        "            token_type = batch.token_type\n",
        "            labels = batch.label\n",
        "                        \n",
        "            predictions = model(sequence, attn_mask, token_type)\n",
        "            \n",
        "            loss = criterion(predictions, labels)\n",
        "                \n",
        "            acc = categorical_accuracy(predictions, labels)\n",
        "            score += 1e5*f1(predictions,labels).item()\n",
        "            epoch_loss += loss.item()\n",
        "            epoch_acc += acc.item()\n",
        "            # print(score)\n",
        "            # print(epoch_acc)\n",
        "        # print(classification_report(pred,lab))\n",
        "    return epoch_loss / len(iterator), epoch_acc / len(iterator), score / len(iterator)"
      ]
    },
    {
      "cell_type": "markdown",
      "source": [
        "###Helper Function to compute time taken"
      ],
      "metadata": {
        "id": "8Hlw6tghiaTY"
      }
    },
    {
      "cell_type": "code",
      "execution_count": null,
      "metadata": {
        "id": "J63QtMjZhUeF"
      },
      "outputs": [],
      "source": [
        "import time\n",
        "\n",
        "def epoch_time(start_time, end_time):\n",
        "    elapsed_time = end_time - start_time\n",
        "    elapsed_mins = int(elapsed_time / 60)\n",
        "    elapsed_secs = int(elapsed_time - (elapsed_mins * 60))\n",
        "    return elapsed_mins, elapsed_secs"
      ]
    },
    {
      "cell_type": "code",
      "execution_count": null,
      "metadata": {
        "colab": {
          "base_uri": "https://localhost:8080/"
        },
        "id": "1RrLjtv2jWRY",
        "outputId": "83b24e0c-5e58-4a88-e4ff-df786485f5d8"
      },
      "outputs": [
        {
          "output_type": "execute_result",
          "data": {
            "text/plain": [
              "11830"
            ]
          },
          "metadata": {},
          "execution_count": 56
        }
      ],
      "source": [
        "len(train_data)"
      ]
    },
    {
      "cell_type": "markdown",
      "source": [
        "##Train the Model"
      ],
      "metadata": {
        "id": "sT6C7iVZihD2"
      }
    },
    {
      "cell_type": "code",
      "execution_count": null,
      "metadata": {
        "colab": {
          "base_uri": "https://localhost:8080/"
        },
        "id": "pP2ccIWyhXfb",
        "outputId": "73de2fb9-ed66-45ec-f38f-c088e1f22ba1"
      },
      "outputs": [
        {
          "output_type": "stream",
          "name": "stdout",
          "text": [
            "Gradient overflow.  Skipping step, loss scaler 0 reducing loss scale to 8192.0\n",
            "Epoch: 01 | Epoch Time: 5m 37s\n",
            "\tTrain Loss: 0.160 | Train Acc: 95.43%\n",
            "\t Val. Loss: 0.175 |  Val. Acc: 95.42%\n",
            "Epoch: 02 | Epoch Time: 5m 38s\n",
            "\tTrain Loss: 0.122 | Train Acc: 96.85%\n",
            "\t Val. Loss: 0.161 |  Val. Acc: 96.41%\n",
            "Epoch: 03 | Epoch Time: 5m 34s\n",
            "\tTrain Loss: 0.078 | Train Acc: 98.01%\n",
            "\t Val. Loss: 0.151 |  Val. Acc: 96.69%\n",
            "Gradient overflow.  Skipping step, loss scaler 0 reducing loss scale to 8192.0\n",
            "Epoch: 04 | Epoch Time: 5m 34s\n",
            "\tTrain Loss: 0.049 | Train Acc: 98.78%\n",
            "\t Val. Loss: 0.150 |  Val. Acc: 96.81%\n",
            "Epoch: 05 | Epoch Time: 5m 34s\n",
            "\tTrain Loss: 0.036 | Train Acc: 99.09%\n",
            "\t Val. Loss: 0.189 |  Val. Acc: 96.79%\n",
            "Epoch: 06 | Epoch Time: 5m 33s\n",
            "\tTrain Loss: 0.027 | Train Acc: 99.27%\n",
            "\t Val. Loss: 0.163 |  Val. Acc: 96.96%\n"
          ]
        }
      ],
      "source": [
        "import math\n",
        "N_EPOCHS = 6\n",
        "\n",
        "warmup_percent = 0.2\n",
        "total_steps = math.ceil(N_EPOCHS*len(train_data)*1./BATCH_SIZE)\n",
        "warmup_steps = int(total_steps*warmup_percent)\n",
        "scheduler = get_scheduler(optimizer, warmup_steps)\n",
        "\n",
        "best_valid_loss = float('inf')\n",
        "\n",
        "for epoch in range(N_EPOCHS):\n",
        "\n",
        "    start_time = time.time()\n",
        "    \n",
        "    train_loss, train_acc = train(model, train_iterator, optimizer, criterion, scheduler)\n",
        "    valid_loss, valid_acc, _ = evaluate(model, valid_iterator, criterion)\n",
        "    \n",
        "    end_time = time.time()\n",
        "\n",
        "    epoch_mins, epoch_secs = epoch_time(start_time, end_time)\n",
        "    \n",
        "    if valid_loss < best_valid_loss:\n",
        "        best_valid_loss = valid_loss\n",
        "        torch.save(model.state_dict(), '/content/drive/MyDrive/nlpData/bert-nli.pt')\n",
        "    \n",
        "    print(f'Epoch: {epoch+1:02} | Epoch Time: {epoch_mins}m {epoch_secs}s')\n",
        "    print(f'\\tTrain Loss: {train_loss:.3f} | Train Acc: {train_acc*100:.2f}%')\n",
        "    print(f'\\t Val. Loss: {valid_loss:.3f} |  Val. Acc: {valid_acc*100:.2f}%')"
      ]
    },
    {
      "cell_type": "markdown",
      "source": [
        "##Test the Model"
      ],
      "metadata": {
        "id": "N7gKD3ZQimV5"
      }
    },
    {
      "cell_type": "code",
      "execution_count": null,
      "metadata": {
        "colab": {
          "base_uri": "https://localhost:8080/"
        },
        "id": "oZduE_lPha8l",
        "outputId": "c3823e9f-8911-49c8-cc5a-beca5277ba5e"
      },
      "outputs": [
        {
          "output_type": "stream",
          "name": "stdout",
          "text": [
            "Test Loss: 0.176 |  Test Acc: 96.46% |  f1 score: 0.925843\n"
          ]
        }
      ],
      "source": [
        "model.load_state_dict(torch.load('/content/drive/MyDrive/nlpData/bert-nli.pt'))\n",
        "test_loss, test_acc, f1_score = evaluate(model, test_iterator, criterion)\n",
        "print(f'Test Loss: {test_loss:.3f} |  Test Acc: {test_acc*100:.2f}% |  f1 score: {f1_score*1e-5:.6f}')"
      ]
    },
    {
      "cell_type": "code",
      "source": [
        "def predict_inference(premise, hypothesis, model, device):\n",
        "    \n",
        "    model.eval()\n",
        "    \n",
        "    premise = '[CLS] ' + premise + ' [SEP]'\n",
        "    hypothesis = hypothesis + ' [SEP]'\n",
        "    \n",
        "    prem_t = tokenize_bert(premise)\n",
        "    hypo_t = tokenize_bert(hypothesis)\n",
        "    \n",
        "    #print(len(prem_t), len(hypo_t))\n",
        "    \n",
        "    prem_type = get_sent1_token_type(prem_t)\n",
        "    hypo_type = get_sent2_token_type(hypo_t)\n",
        "    \n",
        "    #print(len(prem_type), len(hypo_type))\n",
        "    \n",
        "    indexes = prem_t + hypo_t\n",
        "    \n",
        "    indexes = tokenizer.convert_tokens_to_ids(indexes)\n",
        "    #print(indexes)\n",
        "    indexes_type = prem_type + hypo_type\n",
        "    #print(indexes_type)\n",
        "    \n",
        "    attn_mask = get_sent2_token_type(indexes)\n",
        "    #print(attn_mask)\n",
        "    \n",
        "    #print(len(indexes))\n",
        "    #print(len(indexes_type))\n",
        "    #print(len(attn_mask))\n",
        "\n",
        "    #seq = '[CLS] '+ premise + ' [SEP] '+ hypothesis \n",
        "\n",
        "    #tokens = tokenizer.tokenize(seq)\n",
        "\n",
        "    #indexes = tokenizer.convert_tokens_to_ids(tokens)\n",
        "    \n",
        "    indexes = torch.LongTensor(indexes).unsqueeze(0).to(device)\n",
        "    indexes_type = torch.LongTensor(indexes_type).unsqueeze(0).to(device)\n",
        "    attn_mask = torch.LongTensor(attn_mask).unsqueeze(0).to(device)\n",
        "    \n",
        "    #print(indexes.size())\n",
        "    \n",
        "    prediction = model(indexes, attn_mask, indexes_type)\n",
        "    \n",
        "    prediction = prediction.argmax(dim=-1).item()\n",
        "    \n",
        "    return LABEL.vocab.itos[prediction]"
      ],
      "metadata": {
        "id": "ysXa6PF-P9Yo"
      },
      "execution_count": null,
      "outputs": []
    },
    {
      "cell_type": "code",
      "source": [
        "def get_prediction(content, entity, model, device):\n",
        "  hypothesis = entity + ' is represented positively here'\n",
        "  label = predict_inference(content, hypothesis, model, device)\n",
        "  if label == 'neutral':\n",
        "    return 'neutral'\n",
        "  elif label == 'entailment':\n",
        "    return 'positive'\n",
        "  return 'negative'"
      ],
      "metadata": {
        "id": "zdDlTk0jQpYx"
      },
      "execution_count": null,
      "outputs": []
    },
    {
      "cell_type": "code",
      "source": [
        "content = 'Recently, huge criticisms have rocked Facebook.'\n",
        "entity = 'Facebook'\n",
        "\n",
        "get_prediction(content, entity, model, device)"
      ],
      "metadata": {
        "colab": {
          "base_uri": "https://localhost:8080/",
          "height": 36
        },
        "id": "GzytnkUeQTOp",
        "outputId": "6b8584ff-2b0d-4ac8-c97b-7dfa7b9b299b"
      },
      "execution_count": null,
      "outputs": [
        {
          "output_type": "execute_result",
          "data": {
            "text/plain": [
              "'negative'"
            ],
            "application/vnd.google.colaboratory.intrinsic+json": {
              "type": "string"
            }
          },
          "metadata": {},
          "execution_count": 62
        }
      ]
    }
  ],
  "metadata": {
    "accelerator": "GPU",
    "colab": {
      "provenance": [],
      "toc_visible": true
    },
    "gpuClass": "standard",
    "kernelspec": {
      "display_name": "Python 3 (ipykernel)",
      "language": "python",
      "name": "python3"
    },
    "language_info": {
      "codemirror_mode": {
        "name": "ipython",
        "version": 3
      },
      "file_extension": ".py",
      "mimetype": "text/x-python",
      "name": "python",
      "nbconvert_exporter": "python",
      "pygments_lexer": "ipython3",
      "version": "3.9.6"
    },
    "widgets": {
      "application/vnd.jupyter.widget-state+json": {
        "536ab0f647f04df08a89ea65fce5e8c8": {
          "model_module": "@jupyter-widgets/controls",
          "model_name": "HBoxModel",
          "model_module_version": "1.5.0",
          "state": {
            "_dom_classes": [],
            "_model_module": "@jupyter-widgets/controls",
            "_model_module_version": "1.5.0",
            "_model_name": "HBoxModel",
            "_view_count": null,
            "_view_module": "@jupyter-widgets/controls",
            "_view_module_version": "1.5.0",
            "_view_name": "HBoxView",
            "box_style": "",
            "children": [
              "IPY_MODEL_e3056675c4c94f53b89f478223ab3396",
              "IPY_MODEL_87d207b27ce9480694493639de8db3a6",
              "IPY_MODEL_4b579d02be44442cb23354d526c9cb18"
            ],
            "layout": "IPY_MODEL_911a3a776121492c816db2c40f82d660"
          }
        },
        "e3056675c4c94f53b89f478223ab3396": {
          "model_module": "@jupyter-widgets/controls",
          "model_name": "HTMLModel",
          "model_module_version": "1.5.0",
          "state": {
            "_dom_classes": [],
            "_model_module": "@jupyter-widgets/controls",
            "_model_module_version": "1.5.0",
            "_model_name": "HTMLModel",
            "_view_count": null,
            "_view_module": "@jupyter-widgets/controls",
            "_view_module_version": "1.5.0",
            "_view_name": "HTMLView",
            "description": "",
            "description_tooltip": null,
            "layout": "IPY_MODEL_249ac2e6fc3e49aba23b514375db0f7e",
            "placeholder": "​",
            "style": "IPY_MODEL_5871ac9c4d7b4389887287a71cddd723",
            "value": "Downloading: 100%"
          }
        },
        "87d207b27ce9480694493639de8db3a6": {
          "model_module": "@jupyter-widgets/controls",
          "model_name": "FloatProgressModel",
          "model_module_version": "1.5.0",
          "state": {
            "_dom_classes": [],
            "_model_module": "@jupyter-widgets/controls",
            "_model_module_version": "1.5.0",
            "_model_name": "FloatProgressModel",
            "_view_count": null,
            "_view_module": "@jupyter-widgets/controls",
            "_view_module_version": "1.5.0",
            "_view_name": "ProgressView",
            "bar_style": "success",
            "description": "",
            "description_tooltip": null,
            "layout": "IPY_MODEL_a145791d5c884dffbb820f33d855ef30",
            "max": 231508,
            "min": 0,
            "orientation": "horizontal",
            "style": "IPY_MODEL_4fc6d0ee254442a6b062eae4b5a0475b",
            "value": 231508
          }
        },
        "4b579d02be44442cb23354d526c9cb18": {
          "model_module": "@jupyter-widgets/controls",
          "model_name": "HTMLModel",
          "model_module_version": "1.5.0",
          "state": {
            "_dom_classes": [],
            "_model_module": "@jupyter-widgets/controls",
            "_model_module_version": "1.5.0",
            "_model_name": "HTMLModel",
            "_view_count": null,
            "_view_module": "@jupyter-widgets/controls",
            "_view_module_version": "1.5.0",
            "_view_name": "HTMLView",
            "description": "",
            "description_tooltip": null,
            "layout": "IPY_MODEL_18d66b582ac04021bd699a04495a7924",
            "placeholder": "​",
            "style": "IPY_MODEL_6dcd2e4ec32a498e818a38c10e39d722",
            "value": " 232k/232k [00:00&lt;00:00, 167kB/s]"
          }
        },
        "911a3a776121492c816db2c40f82d660": {
          "model_module": "@jupyter-widgets/base",
          "model_name": "LayoutModel",
          "model_module_version": "1.2.0",
          "state": {
            "_model_module": "@jupyter-widgets/base",
            "_model_module_version": "1.2.0",
            "_model_name": "LayoutModel",
            "_view_count": null,
            "_view_module": "@jupyter-widgets/base",
            "_view_module_version": "1.2.0",
            "_view_name": "LayoutView",
            "align_content": null,
            "align_items": null,
            "align_self": null,
            "border": null,
            "bottom": null,
            "display": null,
            "flex": null,
            "flex_flow": null,
            "grid_area": null,
            "grid_auto_columns": null,
            "grid_auto_flow": null,
            "grid_auto_rows": null,
            "grid_column": null,
            "grid_gap": null,
            "grid_row": null,
            "grid_template_areas": null,
            "grid_template_columns": null,
            "grid_template_rows": null,
            "height": null,
            "justify_content": null,
            "justify_items": null,
            "left": null,
            "margin": null,
            "max_height": null,
            "max_width": null,
            "min_height": null,
            "min_width": null,
            "object_fit": null,
            "object_position": null,
            "order": null,
            "overflow": null,
            "overflow_x": null,
            "overflow_y": null,
            "padding": null,
            "right": null,
            "top": null,
            "visibility": null,
            "width": null
          }
        },
        "249ac2e6fc3e49aba23b514375db0f7e": {
          "model_module": "@jupyter-widgets/base",
          "model_name": "LayoutModel",
          "model_module_version": "1.2.0",
          "state": {
            "_model_module": "@jupyter-widgets/base",
            "_model_module_version": "1.2.0",
            "_model_name": "LayoutModel",
            "_view_count": null,
            "_view_module": "@jupyter-widgets/base",
            "_view_module_version": "1.2.0",
            "_view_name": "LayoutView",
            "align_content": null,
            "align_items": null,
            "align_self": null,
            "border": null,
            "bottom": null,
            "display": null,
            "flex": null,
            "flex_flow": null,
            "grid_area": null,
            "grid_auto_columns": null,
            "grid_auto_flow": null,
            "grid_auto_rows": null,
            "grid_column": null,
            "grid_gap": null,
            "grid_row": null,
            "grid_template_areas": null,
            "grid_template_columns": null,
            "grid_template_rows": null,
            "height": null,
            "justify_content": null,
            "justify_items": null,
            "left": null,
            "margin": null,
            "max_height": null,
            "max_width": null,
            "min_height": null,
            "min_width": null,
            "object_fit": null,
            "object_position": null,
            "order": null,
            "overflow": null,
            "overflow_x": null,
            "overflow_y": null,
            "padding": null,
            "right": null,
            "top": null,
            "visibility": null,
            "width": null
          }
        },
        "5871ac9c4d7b4389887287a71cddd723": {
          "model_module": "@jupyter-widgets/controls",
          "model_name": "DescriptionStyleModel",
          "model_module_version": "1.5.0",
          "state": {
            "_model_module": "@jupyter-widgets/controls",
            "_model_module_version": "1.5.0",
            "_model_name": "DescriptionStyleModel",
            "_view_count": null,
            "_view_module": "@jupyter-widgets/base",
            "_view_module_version": "1.2.0",
            "_view_name": "StyleView",
            "description_width": ""
          }
        },
        "a145791d5c884dffbb820f33d855ef30": {
          "model_module": "@jupyter-widgets/base",
          "model_name": "LayoutModel",
          "model_module_version": "1.2.0",
          "state": {
            "_model_module": "@jupyter-widgets/base",
            "_model_module_version": "1.2.0",
            "_model_name": "LayoutModel",
            "_view_count": null,
            "_view_module": "@jupyter-widgets/base",
            "_view_module_version": "1.2.0",
            "_view_name": "LayoutView",
            "align_content": null,
            "align_items": null,
            "align_self": null,
            "border": null,
            "bottom": null,
            "display": null,
            "flex": null,
            "flex_flow": null,
            "grid_area": null,
            "grid_auto_columns": null,
            "grid_auto_flow": null,
            "grid_auto_rows": null,
            "grid_column": null,
            "grid_gap": null,
            "grid_row": null,
            "grid_template_areas": null,
            "grid_template_columns": null,
            "grid_template_rows": null,
            "height": null,
            "justify_content": null,
            "justify_items": null,
            "left": null,
            "margin": null,
            "max_height": null,
            "max_width": null,
            "min_height": null,
            "min_width": null,
            "object_fit": null,
            "object_position": null,
            "order": null,
            "overflow": null,
            "overflow_x": null,
            "overflow_y": null,
            "padding": null,
            "right": null,
            "top": null,
            "visibility": null,
            "width": null
          }
        },
        "4fc6d0ee254442a6b062eae4b5a0475b": {
          "model_module": "@jupyter-widgets/controls",
          "model_name": "ProgressStyleModel",
          "model_module_version": "1.5.0",
          "state": {
            "_model_module": "@jupyter-widgets/controls",
            "_model_module_version": "1.5.0",
            "_model_name": "ProgressStyleModel",
            "_view_count": null,
            "_view_module": "@jupyter-widgets/base",
            "_view_module_version": "1.2.0",
            "_view_name": "StyleView",
            "bar_color": null,
            "description_width": ""
          }
        },
        "18d66b582ac04021bd699a04495a7924": {
          "model_module": "@jupyter-widgets/base",
          "model_name": "LayoutModel",
          "model_module_version": "1.2.0",
          "state": {
            "_model_module": "@jupyter-widgets/base",
            "_model_module_version": "1.2.0",
            "_model_name": "LayoutModel",
            "_view_count": null,
            "_view_module": "@jupyter-widgets/base",
            "_view_module_version": "1.2.0",
            "_view_name": "LayoutView",
            "align_content": null,
            "align_items": null,
            "align_self": null,
            "border": null,
            "bottom": null,
            "display": null,
            "flex": null,
            "flex_flow": null,
            "grid_area": null,
            "grid_auto_columns": null,
            "grid_auto_flow": null,
            "grid_auto_rows": null,
            "grid_column": null,
            "grid_gap": null,
            "grid_row": null,
            "grid_template_areas": null,
            "grid_template_columns": null,
            "grid_template_rows": null,
            "height": null,
            "justify_content": null,
            "justify_items": null,
            "left": null,
            "margin": null,
            "max_height": null,
            "max_width": null,
            "min_height": null,
            "min_width": null,
            "object_fit": null,
            "object_position": null,
            "order": null,
            "overflow": null,
            "overflow_x": null,
            "overflow_y": null,
            "padding": null,
            "right": null,
            "top": null,
            "visibility": null,
            "width": null
          }
        },
        "6dcd2e4ec32a498e818a38c10e39d722": {
          "model_module": "@jupyter-widgets/controls",
          "model_name": "DescriptionStyleModel",
          "model_module_version": "1.5.0",
          "state": {
            "_model_module": "@jupyter-widgets/controls",
            "_model_module_version": "1.5.0",
            "_model_name": "DescriptionStyleModel",
            "_view_count": null,
            "_view_module": "@jupyter-widgets/base",
            "_view_module_version": "1.2.0",
            "_view_name": "StyleView",
            "description_width": ""
          }
        },
        "8ac55d4bb4194681b9b30427d2d63d4d": {
          "model_module": "@jupyter-widgets/controls",
          "model_name": "HBoxModel",
          "model_module_version": "1.5.0",
          "state": {
            "_dom_classes": [],
            "_model_module": "@jupyter-widgets/controls",
            "_model_module_version": "1.5.0",
            "_model_name": "HBoxModel",
            "_view_count": null,
            "_view_module": "@jupyter-widgets/controls",
            "_view_module_version": "1.5.0",
            "_view_name": "HBoxView",
            "box_style": "",
            "children": [
              "IPY_MODEL_b786bd25ec714946a5cfba9626af8e88",
              "IPY_MODEL_01f411afd4874fbd9d862032c0aa9e79",
              "IPY_MODEL_8fa9ddac86e84a759186839668a3874b"
            ],
            "layout": "IPY_MODEL_19b96ef9c40141799f4e1f64765b19f6"
          }
        },
        "b786bd25ec714946a5cfba9626af8e88": {
          "model_module": "@jupyter-widgets/controls",
          "model_name": "HTMLModel",
          "model_module_version": "1.5.0",
          "state": {
            "_dom_classes": [],
            "_model_module": "@jupyter-widgets/controls",
            "_model_module_version": "1.5.0",
            "_model_name": "HTMLModel",
            "_view_count": null,
            "_view_module": "@jupyter-widgets/controls",
            "_view_module_version": "1.5.0",
            "_view_name": "HTMLView",
            "description": "",
            "description_tooltip": null,
            "layout": "IPY_MODEL_9231f351fd7e4b02953ba7830bc905c8",
            "placeholder": "​",
            "style": "IPY_MODEL_b2d2180293154dd9ba61cada18709b1e",
            "value": "Downloading: 100%"
          }
        },
        "01f411afd4874fbd9d862032c0aa9e79": {
          "model_module": "@jupyter-widgets/controls",
          "model_name": "FloatProgressModel",
          "model_module_version": "1.5.0",
          "state": {
            "_dom_classes": [],
            "_model_module": "@jupyter-widgets/controls",
            "_model_module_version": "1.5.0",
            "_model_name": "FloatProgressModel",
            "_view_count": null,
            "_view_module": "@jupyter-widgets/controls",
            "_view_module_version": "1.5.0",
            "_view_name": "ProgressView",
            "bar_style": "success",
            "description": "",
            "description_tooltip": null,
            "layout": "IPY_MODEL_499eae15b65840d6b8d2d017d97f13bf",
            "max": 28,
            "min": 0,
            "orientation": "horizontal",
            "style": "IPY_MODEL_4fb67807f06e48008c517a9ea6df3e5b",
            "value": 28
          }
        },
        "8fa9ddac86e84a759186839668a3874b": {
          "model_module": "@jupyter-widgets/controls",
          "model_name": "HTMLModel",
          "model_module_version": "1.5.0",
          "state": {
            "_dom_classes": [],
            "_model_module": "@jupyter-widgets/controls",
            "_model_module_version": "1.5.0",
            "_model_name": "HTMLModel",
            "_view_count": null,
            "_view_module": "@jupyter-widgets/controls",
            "_view_module_version": "1.5.0",
            "_view_name": "HTMLView",
            "description": "",
            "description_tooltip": null,
            "layout": "IPY_MODEL_54f289ae3e89482a86748dce60a97fa2",
            "placeholder": "​",
            "style": "IPY_MODEL_7d5e1a2c0afd47ce914df82fab939cd9",
            "value": " 28.0/28.0 [00:00&lt;00:00, 898B/s]"
          }
        },
        "19b96ef9c40141799f4e1f64765b19f6": {
          "model_module": "@jupyter-widgets/base",
          "model_name": "LayoutModel",
          "model_module_version": "1.2.0",
          "state": {
            "_model_module": "@jupyter-widgets/base",
            "_model_module_version": "1.2.0",
            "_model_name": "LayoutModel",
            "_view_count": null,
            "_view_module": "@jupyter-widgets/base",
            "_view_module_version": "1.2.0",
            "_view_name": "LayoutView",
            "align_content": null,
            "align_items": null,
            "align_self": null,
            "border": null,
            "bottom": null,
            "display": null,
            "flex": null,
            "flex_flow": null,
            "grid_area": null,
            "grid_auto_columns": null,
            "grid_auto_flow": null,
            "grid_auto_rows": null,
            "grid_column": null,
            "grid_gap": null,
            "grid_row": null,
            "grid_template_areas": null,
            "grid_template_columns": null,
            "grid_template_rows": null,
            "height": null,
            "justify_content": null,
            "justify_items": null,
            "left": null,
            "margin": null,
            "max_height": null,
            "max_width": null,
            "min_height": null,
            "min_width": null,
            "object_fit": null,
            "object_position": null,
            "order": null,
            "overflow": null,
            "overflow_x": null,
            "overflow_y": null,
            "padding": null,
            "right": null,
            "top": null,
            "visibility": null,
            "width": null
          }
        },
        "9231f351fd7e4b02953ba7830bc905c8": {
          "model_module": "@jupyter-widgets/base",
          "model_name": "LayoutModel",
          "model_module_version": "1.2.0",
          "state": {
            "_model_module": "@jupyter-widgets/base",
            "_model_module_version": "1.2.0",
            "_model_name": "LayoutModel",
            "_view_count": null,
            "_view_module": "@jupyter-widgets/base",
            "_view_module_version": "1.2.0",
            "_view_name": "LayoutView",
            "align_content": null,
            "align_items": null,
            "align_self": null,
            "border": null,
            "bottom": null,
            "display": null,
            "flex": null,
            "flex_flow": null,
            "grid_area": null,
            "grid_auto_columns": null,
            "grid_auto_flow": null,
            "grid_auto_rows": null,
            "grid_column": null,
            "grid_gap": null,
            "grid_row": null,
            "grid_template_areas": null,
            "grid_template_columns": null,
            "grid_template_rows": null,
            "height": null,
            "justify_content": null,
            "justify_items": null,
            "left": null,
            "margin": null,
            "max_height": null,
            "max_width": null,
            "min_height": null,
            "min_width": null,
            "object_fit": null,
            "object_position": null,
            "order": null,
            "overflow": null,
            "overflow_x": null,
            "overflow_y": null,
            "padding": null,
            "right": null,
            "top": null,
            "visibility": null,
            "width": null
          }
        },
        "b2d2180293154dd9ba61cada18709b1e": {
          "model_module": "@jupyter-widgets/controls",
          "model_name": "DescriptionStyleModel",
          "model_module_version": "1.5.0",
          "state": {
            "_model_module": "@jupyter-widgets/controls",
            "_model_module_version": "1.5.0",
            "_model_name": "DescriptionStyleModel",
            "_view_count": null,
            "_view_module": "@jupyter-widgets/base",
            "_view_module_version": "1.2.0",
            "_view_name": "StyleView",
            "description_width": ""
          }
        },
        "499eae15b65840d6b8d2d017d97f13bf": {
          "model_module": "@jupyter-widgets/base",
          "model_name": "LayoutModel",
          "model_module_version": "1.2.0",
          "state": {
            "_model_module": "@jupyter-widgets/base",
            "_model_module_version": "1.2.0",
            "_model_name": "LayoutModel",
            "_view_count": null,
            "_view_module": "@jupyter-widgets/base",
            "_view_module_version": "1.2.0",
            "_view_name": "LayoutView",
            "align_content": null,
            "align_items": null,
            "align_self": null,
            "border": null,
            "bottom": null,
            "display": null,
            "flex": null,
            "flex_flow": null,
            "grid_area": null,
            "grid_auto_columns": null,
            "grid_auto_flow": null,
            "grid_auto_rows": null,
            "grid_column": null,
            "grid_gap": null,
            "grid_row": null,
            "grid_template_areas": null,
            "grid_template_columns": null,
            "grid_template_rows": null,
            "height": null,
            "justify_content": null,
            "justify_items": null,
            "left": null,
            "margin": null,
            "max_height": null,
            "max_width": null,
            "min_height": null,
            "min_width": null,
            "object_fit": null,
            "object_position": null,
            "order": null,
            "overflow": null,
            "overflow_x": null,
            "overflow_y": null,
            "padding": null,
            "right": null,
            "top": null,
            "visibility": null,
            "width": null
          }
        },
        "4fb67807f06e48008c517a9ea6df3e5b": {
          "model_module": "@jupyter-widgets/controls",
          "model_name": "ProgressStyleModel",
          "model_module_version": "1.5.0",
          "state": {
            "_model_module": "@jupyter-widgets/controls",
            "_model_module_version": "1.5.0",
            "_model_name": "ProgressStyleModel",
            "_view_count": null,
            "_view_module": "@jupyter-widgets/base",
            "_view_module_version": "1.2.0",
            "_view_name": "StyleView",
            "bar_color": null,
            "description_width": ""
          }
        },
        "54f289ae3e89482a86748dce60a97fa2": {
          "model_module": "@jupyter-widgets/base",
          "model_name": "LayoutModel",
          "model_module_version": "1.2.0",
          "state": {
            "_model_module": "@jupyter-widgets/base",
            "_model_module_version": "1.2.0",
            "_model_name": "LayoutModel",
            "_view_count": null,
            "_view_module": "@jupyter-widgets/base",
            "_view_module_version": "1.2.0",
            "_view_name": "LayoutView",
            "align_content": null,
            "align_items": null,
            "align_self": null,
            "border": null,
            "bottom": null,
            "display": null,
            "flex": null,
            "flex_flow": null,
            "grid_area": null,
            "grid_auto_columns": null,
            "grid_auto_flow": null,
            "grid_auto_rows": null,
            "grid_column": null,
            "grid_gap": null,
            "grid_row": null,
            "grid_template_areas": null,
            "grid_template_columns": null,
            "grid_template_rows": null,
            "height": null,
            "justify_content": null,
            "justify_items": null,
            "left": null,
            "margin": null,
            "max_height": null,
            "max_width": null,
            "min_height": null,
            "min_width": null,
            "object_fit": null,
            "object_position": null,
            "order": null,
            "overflow": null,
            "overflow_x": null,
            "overflow_y": null,
            "padding": null,
            "right": null,
            "top": null,
            "visibility": null,
            "width": null
          }
        },
        "7d5e1a2c0afd47ce914df82fab939cd9": {
          "model_module": "@jupyter-widgets/controls",
          "model_name": "DescriptionStyleModel",
          "model_module_version": "1.5.0",
          "state": {
            "_model_module": "@jupyter-widgets/controls",
            "_model_module_version": "1.5.0",
            "_model_name": "DescriptionStyleModel",
            "_view_count": null,
            "_view_module": "@jupyter-widgets/base",
            "_view_module_version": "1.2.0",
            "_view_name": "StyleView",
            "description_width": ""
          }
        },
        "b0fae9e206c549cdab855fb226d8df2f": {
          "model_module": "@jupyter-widgets/controls",
          "model_name": "HBoxModel",
          "model_module_version": "1.5.0",
          "state": {
            "_dom_classes": [],
            "_model_module": "@jupyter-widgets/controls",
            "_model_module_version": "1.5.0",
            "_model_name": "HBoxModel",
            "_view_count": null,
            "_view_module": "@jupyter-widgets/controls",
            "_view_module_version": "1.5.0",
            "_view_name": "HBoxView",
            "box_style": "",
            "children": [
              "IPY_MODEL_69871ed701e94991aa9ebe1b47d2e3ec",
              "IPY_MODEL_8783880a00e941a0812ebb59af630579",
              "IPY_MODEL_7cbdc9c223134a9f8b7a51334dfb6ee5"
            ],
            "layout": "IPY_MODEL_fbc6ec253ca845fcb2875ca1fd353295"
          }
        },
        "69871ed701e94991aa9ebe1b47d2e3ec": {
          "model_module": "@jupyter-widgets/controls",
          "model_name": "HTMLModel",
          "model_module_version": "1.5.0",
          "state": {
            "_dom_classes": [],
            "_model_module": "@jupyter-widgets/controls",
            "_model_module_version": "1.5.0",
            "_model_name": "HTMLModel",
            "_view_count": null,
            "_view_module": "@jupyter-widgets/controls",
            "_view_module_version": "1.5.0",
            "_view_name": "HTMLView",
            "description": "",
            "description_tooltip": null,
            "layout": "IPY_MODEL_ae58770f874148fe9725bc0cc3943f55",
            "placeholder": "​",
            "style": "IPY_MODEL_f7e4f24f576f40efb50562d9d2d67ef8",
            "value": "Downloading: 100%"
          }
        },
        "8783880a00e941a0812ebb59af630579": {
          "model_module": "@jupyter-widgets/controls",
          "model_name": "FloatProgressModel",
          "model_module_version": "1.5.0",
          "state": {
            "_dom_classes": [],
            "_model_module": "@jupyter-widgets/controls",
            "_model_module_version": "1.5.0",
            "_model_name": "FloatProgressModel",
            "_view_count": null,
            "_view_module": "@jupyter-widgets/controls",
            "_view_module_version": "1.5.0",
            "_view_name": "ProgressView",
            "bar_style": "success",
            "description": "",
            "description_tooltip": null,
            "layout": "IPY_MODEL_ab061e69338d466caca1d28a4773ace8",
            "max": 570,
            "min": 0,
            "orientation": "horizontal",
            "style": "IPY_MODEL_89dd5d477ffe4aa18928bb3bd649df6d",
            "value": 570
          }
        },
        "7cbdc9c223134a9f8b7a51334dfb6ee5": {
          "model_module": "@jupyter-widgets/controls",
          "model_name": "HTMLModel",
          "model_module_version": "1.5.0",
          "state": {
            "_dom_classes": [],
            "_model_module": "@jupyter-widgets/controls",
            "_model_module_version": "1.5.0",
            "_model_name": "HTMLModel",
            "_view_count": null,
            "_view_module": "@jupyter-widgets/controls",
            "_view_module_version": "1.5.0",
            "_view_name": "HTMLView",
            "description": "",
            "description_tooltip": null,
            "layout": "IPY_MODEL_9b7d1f15bd7f447984b8a795cf12b0cf",
            "placeholder": "​",
            "style": "IPY_MODEL_16a57f37973049e8b74f1d5a9054b2fd",
            "value": " 570/570 [00:00&lt;00:00, 18.0kB/s]"
          }
        },
        "fbc6ec253ca845fcb2875ca1fd353295": {
          "model_module": "@jupyter-widgets/base",
          "model_name": "LayoutModel",
          "model_module_version": "1.2.0",
          "state": {
            "_model_module": "@jupyter-widgets/base",
            "_model_module_version": "1.2.0",
            "_model_name": "LayoutModel",
            "_view_count": null,
            "_view_module": "@jupyter-widgets/base",
            "_view_module_version": "1.2.0",
            "_view_name": "LayoutView",
            "align_content": null,
            "align_items": null,
            "align_self": null,
            "border": null,
            "bottom": null,
            "display": null,
            "flex": null,
            "flex_flow": null,
            "grid_area": null,
            "grid_auto_columns": null,
            "grid_auto_flow": null,
            "grid_auto_rows": null,
            "grid_column": null,
            "grid_gap": null,
            "grid_row": null,
            "grid_template_areas": null,
            "grid_template_columns": null,
            "grid_template_rows": null,
            "height": null,
            "justify_content": null,
            "justify_items": null,
            "left": null,
            "margin": null,
            "max_height": null,
            "max_width": null,
            "min_height": null,
            "min_width": null,
            "object_fit": null,
            "object_position": null,
            "order": null,
            "overflow": null,
            "overflow_x": null,
            "overflow_y": null,
            "padding": null,
            "right": null,
            "top": null,
            "visibility": null,
            "width": null
          }
        },
        "ae58770f874148fe9725bc0cc3943f55": {
          "model_module": "@jupyter-widgets/base",
          "model_name": "LayoutModel",
          "model_module_version": "1.2.0",
          "state": {
            "_model_module": "@jupyter-widgets/base",
            "_model_module_version": "1.2.0",
            "_model_name": "LayoutModel",
            "_view_count": null,
            "_view_module": "@jupyter-widgets/base",
            "_view_module_version": "1.2.0",
            "_view_name": "LayoutView",
            "align_content": null,
            "align_items": null,
            "align_self": null,
            "border": null,
            "bottom": null,
            "display": null,
            "flex": null,
            "flex_flow": null,
            "grid_area": null,
            "grid_auto_columns": null,
            "grid_auto_flow": null,
            "grid_auto_rows": null,
            "grid_column": null,
            "grid_gap": null,
            "grid_row": null,
            "grid_template_areas": null,
            "grid_template_columns": null,
            "grid_template_rows": null,
            "height": null,
            "justify_content": null,
            "justify_items": null,
            "left": null,
            "margin": null,
            "max_height": null,
            "max_width": null,
            "min_height": null,
            "min_width": null,
            "object_fit": null,
            "object_position": null,
            "order": null,
            "overflow": null,
            "overflow_x": null,
            "overflow_y": null,
            "padding": null,
            "right": null,
            "top": null,
            "visibility": null,
            "width": null
          }
        },
        "f7e4f24f576f40efb50562d9d2d67ef8": {
          "model_module": "@jupyter-widgets/controls",
          "model_name": "DescriptionStyleModel",
          "model_module_version": "1.5.0",
          "state": {
            "_model_module": "@jupyter-widgets/controls",
            "_model_module_version": "1.5.0",
            "_model_name": "DescriptionStyleModel",
            "_view_count": null,
            "_view_module": "@jupyter-widgets/base",
            "_view_module_version": "1.2.0",
            "_view_name": "StyleView",
            "description_width": ""
          }
        },
        "ab061e69338d466caca1d28a4773ace8": {
          "model_module": "@jupyter-widgets/base",
          "model_name": "LayoutModel",
          "model_module_version": "1.2.0",
          "state": {
            "_model_module": "@jupyter-widgets/base",
            "_model_module_version": "1.2.0",
            "_model_name": "LayoutModel",
            "_view_count": null,
            "_view_module": "@jupyter-widgets/base",
            "_view_module_version": "1.2.0",
            "_view_name": "LayoutView",
            "align_content": null,
            "align_items": null,
            "align_self": null,
            "border": null,
            "bottom": null,
            "display": null,
            "flex": null,
            "flex_flow": null,
            "grid_area": null,
            "grid_auto_columns": null,
            "grid_auto_flow": null,
            "grid_auto_rows": null,
            "grid_column": null,
            "grid_gap": null,
            "grid_row": null,
            "grid_template_areas": null,
            "grid_template_columns": null,
            "grid_template_rows": null,
            "height": null,
            "justify_content": null,
            "justify_items": null,
            "left": null,
            "margin": null,
            "max_height": null,
            "max_width": null,
            "min_height": null,
            "min_width": null,
            "object_fit": null,
            "object_position": null,
            "order": null,
            "overflow": null,
            "overflow_x": null,
            "overflow_y": null,
            "padding": null,
            "right": null,
            "top": null,
            "visibility": null,
            "width": null
          }
        },
        "89dd5d477ffe4aa18928bb3bd649df6d": {
          "model_module": "@jupyter-widgets/controls",
          "model_name": "ProgressStyleModel",
          "model_module_version": "1.5.0",
          "state": {
            "_model_module": "@jupyter-widgets/controls",
            "_model_module_version": "1.5.0",
            "_model_name": "ProgressStyleModel",
            "_view_count": null,
            "_view_module": "@jupyter-widgets/base",
            "_view_module_version": "1.2.0",
            "_view_name": "StyleView",
            "bar_color": null,
            "description_width": ""
          }
        },
        "9b7d1f15bd7f447984b8a795cf12b0cf": {
          "model_module": "@jupyter-widgets/base",
          "model_name": "LayoutModel",
          "model_module_version": "1.2.0",
          "state": {
            "_model_module": "@jupyter-widgets/base",
            "_model_module_version": "1.2.0",
            "_model_name": "LayoutModel",
            "_view_count": null,
            "_view_module": "@jupyter-widgets/base",
            "_view_module_version": "1.2.0",
            "_view_name": "LayoutView",
            "align_content": null,
            "align_items": null,
            "align_self": null,
            "border": null,
            "bottom": null,
            "display": null,
            "flex": null,
            "flex_flow": null,
            "grid_area": null,
            "grid_auto_columns": null,
            "grid_auto_flow": null,
            "grid_auto_rows": null,
            "grid_column": null,
            "grid_gap": null,
            "grid_row": null,
            "grid_template_areas": null,
            "grid_template_columns": null,
            "grid_template_rows": null,
            "height": null,
            "justify_content": null,
            "justify_items": null,
            "left": null,
            "margin": null,
            "max_height": null,
            "max_width": null,
            "min_height": null,
            "min_width": null,
            "object_fit": null,
            "object_position": null,
            "order": null,
            "overflow": null,
            "overflow_x": null,
            "overflow_y": null,
            "padding": null,
            "right": null,
            "top": null,
            "visibility": null,
            "width": null
          }
        },
        "16a57f37973049e8b74f1d5a9054b2fd": {
          "model_module": "@jupyter-widgets/controls",
          "model_name": "DescriptionStyleModel",
          "model_module_version": "1.5.0",
          "state": {
            "_model_module": "@jupyter-widgets/controls",
            "_model_module_version": "1.5.0",
            "_model_name": "DescriptionStyleModel",
            "_view_count": null,
            "_view_module": "@jupyter-widgets/base",
            "_view_module_version": "1.2.0",
            "_view_name": "StyleView",
            "description_width": ""
          }
        },
        "1498a7d5c8644a29b8673e2278f5802b": {
          "model_module": "@jupyter-widgets/controls",
          "model_name": "HBoxModel",
          "model_module_version": "1.5.0",
          "state": {
            "_dom_classes": [],
            "_model_module": "@jupyter-widgets/controls",
            "_model_module_version": "1.5.0",
            "_model_name": "HBoxModel",
            "_view_count": null,
            "_view_module": "@jupyter-widgets/controls",
            "_view_module_version": "1.5.0",
            "_view_name": "HBoxView",
            "box_style": "",
            "children": [
              "IPY_MODEL_e9b15856daf44eb2b91522820c567984",
              "IPY_MODEL_4490b59648174188b691da86e8542de6",
              "IPY_MODEL_dda53e32d4994632a7b9a7163d3f7b4c"
            ],
            "layout": "IPY_MODEL_36c834b52a2d4e47aae39e5f66772d9b"
          }
        },
        "e9b15856daf44eb2b91522820c567984": {
          "model_module": "@jupyter-widgets/controls",
          "model_name": "HTMLModel",
          "model_module_version": "1.5.0",
          "state": {
            "_dom_classes": [],
            "_model_module": "@jupyter-widgets/controls",
            "_model_module_version": "1.5.0",
            "_model_name": "HTMLModel",
            "_view_count": null,
            "_view_module": "@jupyter-widgets/controls",
            "_view_module_version": "1.5.0",
            "_view_name": "HTMLView",
            "description": "",
            "description_tooltip": null,
            "layout": "IPY_MODEL_b57d24b138c9431bab382285eb3005b4",
            "placeholder": "​",
            "style": "IPY_MODEL_aebd238921cd421aa7efecfe447fa7c6",
            "value": "Downloading: 100%"
          }
        },
        "4490b59648174188b691da86e8542de6": {
          "model_module": "@jupyter-widgets/controls",
          "model_name": "FloatProgressModel",
          "model_module_version": "1.5.0",
          "state": {
            "_dom_classes": [],
            "_model_module": "@jupyter-widgets/controls",
            "_model_module_version": "1.5.0",
            "_model_name": "FloatProgressModel",
            "_view_count": null,
            "_view_module": "@jupyter-widgets/controls",
            "_view_module_version": "1.5.0",
            "_view_name": "ProgressView",
            "bar_style": "success",
            "description": "",
            "description_tooltip": null,
            "layout": "IPY_MODEL_094239f66cc64c7e96cf5e4056bc81bd",
            "max": 440473133,
            "min": 0,
            "orientation": "horizontal",
            "style": "IPY_MODEL_c43ab7aeab8142e996d5430ee9c90361",
            "value": 440473133
          }
        },
        "dda53e32d4994632a7b9a7163d3f7b4c": {
          "model_module": "@jupyter-widgets/controls",
          "model_name": "HTMLModel",
          "model_module_version": "1.5.0",
          "state": {
            "_dom_classes": [],
            "_model_module": "@jupyter-widgets/controls",
            "_model_module_version": "1.5.0",
            "_model_name": "HTMLModel",
            "_view_count": null,
            "_view_module": "@jupyter-widgets/controls",
            "_view_module_version": "1.5.0",
            "_view_name": "HTMLView",
            "description": "",
            "description_tooltip": null,
            "layout": "IPY_MODEL_ca3378b88ed245f3ae0bc6ceb9207fa8",
            "placeholder": "​",
            "style": "IPY_MODEL_84ca7663918946debf08f04257cfddb7",
            "value": " 440M/440M [00:07&lt;00:00, 56.7MB/s]"
          }
        },
        "36c834b52a2d4e47aae39e5f66772d9b": {
          "model_module": "@jupyter-widgets/base",
          "model_name": "LayoutModel",
          "model_module_version": "1.2.0",
          "state": {
            "_model_module": "@jupyter-widgets/base",
            "_model_module_version": "1.2.0",
            "_model_name": "LayoutModel",
            "_view_count": null,
            "_view_module": "@jupyter-widgets/base",
            "_view_module_version": "1.2.0",
            "_view_name": "LayoutView",
            "align_content": null,
            "align_items": null,
            "align_self": null,
            "border": null,
            "bottom": null,
            "display": null,
            "flex": null,
            "flex_flow": null,
            "grid_area": null,
            "grid_auto_columns": null,
            "grid_auto_flow": null,
            "grid_auto_rows": null,
            "grid_column": null,
            "grid_gap": null,
            "grid_row": null,
            "grid_template_areas": null,
            "grid_template_columns": null,
            "grid_template_rows": null,
            "height": null,
            "justify_content": null,
            "justify_items": null,
            "left": null,
            "margin": null,
            "max_height": null,
            "max_width": null,
            "min_height": null,
            "min_width": null,
            "object_fit": null,
            "object_position": null,
            "order": null,
            "overflow": null,
            "overflow_x": null,
            "overflow_y": null,
            "padding": null,
            "right": null,
            "top": null,
            "visibility": null,
            "width": null
          }
        },
        "b57d24b138c9431bab382285eb3005b4": {
          "model_module": "@jupyter-widgets/base",
          "model_name": "LayoutModel",
          "model_module_version": "1.2.0",
          "state": {
            "_model_module": "@jupyter-widgets/base",
            "_model_module_version": "1.2.0",
            "_model_name": "LayoutModel",
            "_view_count": null,
            "_view_module": "@jupyter-widgets/base",
            "_view_module_version": "1.2.0",
            "_view_name": "LayoutView",
            "align_content": null,
            "align_items": null,
            "align_self": null,
            "border": null,
            "bottom": null,
            "display": null,
            "flex": null,
            "flex_flow": null,
            "grid_area": null,
            "grid_auto_columns": null,
            "grid_auto_flow": null,
            "grid_auto_rows": null,
            "grid_column": null,
            "grid_gap": null,
            "grid_row": null,
            "grid_template_areas": null,
            "grid_template_columns": null,
            "grid_template_rows": null,
            "height": null,
            "justify_content": null,
            "justify_items": null,
            "left": null,
            "margin": null,
            "max_height": null,
            "max_width": null,
            "min_height": null,
            "min_width": null,
            "object_fit": null,
            "object_position": null,
            "order": null,
            "overflow": null,
            "overflow_x": null,
            "overflow_y": null,
            "padding": null,
            "right": null,
            "top": null,
            "visibility": null,
            "width": null
          }
        },
        "aebd238921cd421aa7efecfe447fa7c6": {
          "model_module": "@jupyter-widgets/controls",
          "model_name": "DescriptionStyleModel",
          "model_module_version": "1.5.0",
          "state": {
            "_model_module": "@jupyter-widgets/controls",
            "_model_module_version": "1.5.0",
            "_model_name": "DescriptionStyleModel",
            "_view_count": null,
            "_view_module": "@jupyter-widgets/base",
            "_view_module_version": "1.2.0",
            "_view_name": "StyleView",
            "description_width": ""
          }
        },
        "094239f66cc64c7e96cf5e4056bc81bd": {
          "model_module": "@jupyter-widgets/base",
          "model_name": "LayoutModel",
          "model_module_version": "1.2.0",
          "state": {
            "_model_module": "@jupyter-widgets/base",
            "_model_module_version": "1.2.0",
            "_model_name": "LayoutModel",
            "_view_count": null,
            "_view_module": "@jupyter-widgets/base",
            "_view_module_version": "1.2.0",
            "_view_name": "LayoutView",
            "align_content": null,
            "align_items": null,
            "align_self": null,
            "border": null,
            "bottom": null,
            "display": null,
            "flex": null,
            "flex_flow": null,
            "grid_area": null,
            "grid_auto_columns": null,
            "grid_auto_flow": null,
            "grid_auto_rows": null,
            "grid_column": null,
            "grid_gap": null,
            "grid_row": null,
            "grid_template_areas": null,
            "grid_template_columns": null,
            "grid_template_rows": null,
            "height": null,
            "justify_content": null,
            "justify_items": null,
            "left": null,
            "margin": null,
            "max_height": null,
            "max_width": null,
            "min_height": null,
            "min_width": null,
            "object_fit": null,
            "object_position": null,
            "order": null,
            "overflow": null,
            "overflow_x": null,
            "overflow_y": null,
            "padding": null,
            "right": null,
            "top": null,
            "visibility": null,
            "width": null
          }
        },
        "c43ab7aeab8142e996d5430ee9c90361": {
          "model_module": "@jupyter-widgets/controls",
          "model_name": "ProgressStyleModel",
          "model_module_version": "1.5.0",
          "state": {
            "_model_module": "@jupyter-widgets/controls",
            "_model_module_version": "1.5.0",
            "_model_name": "ProgressStyleModel",
            "_view_count": null,
            "_view_module": "@jupyter-widgets/base",
            "_view_module_version": "1.2.0",
            "_view_name": "StyleView",
            "bar_color": null,
            "description_width": ""
          }
        },
        "ca3378b88ed245f3ae0bc6ceb9207fa8": {
          "model_module": "@jupyter-widgets/base",
          "model_name": "LayoutModel",
          "model_module_version": "1.2.0",
          "state": {
            "_model_module": "@jupyter-widgets/base",
            "_model_module_version": "1.2.0",
            "_model_name": "LayoutModel",
            "_view_count": null,
            "_view_module": "@jupyter-widgets/base",
            "_view_module_version": "1.2.0",
            "_view_name": "LayoutView",
            "align_content": null,
            "align_items": null,
            "align_self": null,
            "border": null,
            "bottom": null,
            "display": null,
            "flex": null,
            "flex_flow": null,
            "grid_area": null,
            "grid_auto_columns": null,
            "grid_auto_flow": null,
            "grid_auto_rows": null,
            "grid_column": null,
            "grid_gap": null,
            "grid_row": null,
            "grid_template_areas": null,
            "grid_template_columns": null,
            "grid_template_rows": null,
            "height": null,
            "justify_content": null,
            "justify_items": null,
            "left": null,
            "margin": null,
            "max_height": null,
            "max_width": null,
            "min_height": null,
            "min_width": null,
            "object_fit": null,
            "object_position": null,
            "order": null,
            "overflow": null,
            "overflow_x": null,
            "overflow_y": null,
            "padding": null,
            "right": null,
            "top": null,
            "visibility": null,
            "width": null
          }
        },
        "84ca7663918946debf08f04257cfddb7": {
          "model_module": "@jupyter-widgets/controls",
          "model_name": "DescriptionStyleModel",
          "model_module_version": "1.5.0",
          "state": {
            "_model_module": "@jupyter-widgets/controls",
            "_model_module_version": "1.5.0",
            "_model_name": "DescriptionStyleModel",
            "_view_count": null,
            "_view_module": "@jupyter-widgets/base",
            "_view_module_version": "1.2.0",
            "_view_name": "StyleView",
            "description_width": ""
          }
        }
      }
    }
  },
  "nbformat": 4,
  "nbformat_minor": 0
}